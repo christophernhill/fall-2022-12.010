{
 "cells": [
  {
   "cell_type": "markdown",
   "id": "3fe0a541-f366-4023-ac90-4b780e52e217",
   "metadata": {},
   "source": [
    "# Numbers (and everything else) are represented in a computer in binary.\n",
    "There are two main types of numbers **integer** numbers and **floating-point** numbers.\n",
    "\n",
    "**Integer** numbers are represented exactly by their base 2 bit sequence. Using 32-bits signed **integer**\n",
    "values in the range -2147483648 to 2147483647 can be represented.\n",
    "\n",
    "**Floating-point** numbers use a special format that approximates a real number."
   ]
  },
  {
   "cell_type": "code",
   "execution_count": 43,
   "id": "565e231b-bb28-4430-9e47-ebdf1312dbb6",
   "metadata": {},
   "outputs": [],
   "source": [
    "# Include package useful for examining float number bit patterns\n",
    "import struct"
   ]
  },
  {
   "cell_type": "code",
   "execution_count": 3,
   "id": "001c5399-23aa-4c80-87a0-2eda0ffa60b6",
   "metadata": {},
   "outputs": [
    {
     "data": {
      "text/plain": [
       "'0b100'"
      ]
     },
     "execution_count": 3,
     "metadata": {},
     "output_type": "execute_result"
    }
   ],
   "source": [
    "# Lets set an integer value and look at its bit pattern\n",
    "# Python includes a standard function bin() that returns the binary representation of an integer.\n",
    "i=4\n",
    "bin(i)"
   ]
  },
  {
   "cell_type": "code",
   "execution_count": 4,
   "id": "0978ae08-d8c1-4eba-9f3e-1857fe6ec90c",
   "metadata": {},
   "outputs": [
    {
     "data": {
      "text/plain": [
       "\u001b[0;31mSignature:\u001b[0m \u001b[0mbin\u001b[0m\u001b[0;34m(\u001b[0m\u001b[0mnumber\u001b[0m\u001b[0;34m,\u001b[0m \u001b[0;34m/\u001b[0m\u001b[0;34m)\u001b[0m\u001b[0;34m\u001b[0m\u001b[0;34m\u001b[0m\u001b[0m\n",
       "\u001b[0;31mDocstring:\u001b[0m\n",
       "Return the binary representation of an integer.\n",
       "\n",
       ">>> bin(2796202)\n",
       "'0b1010101010101010101010'\n",
       "\u001b[0;31mType:\u001b[0m      builtin_function_or_method\n"
      ]
     },
     "metadata": {},
     "output_type": "display_data"
    }
   ],
   "source": [
    "# We can read about the bin() function using the ? prefix\n",
    "?bin"
   ]
  },
  {
   "cell_type": "markdown",
   "id": "a083d6a5-0532-4e82-a9a9-d735ce7fafd0",
   "metadata": {},
   "source": [
    "### A real world example ( https://en.wikipedia.org/wiki/Electronic_voting_in_Belgium#cite_note-2 ) of bits!\n",
    "In a Belgium election with early electronic voting machines one candidate was mysteriously tallied with an extra 4096 votes.\n",
    "This was inconsistent with the number of people voting. After investigating it was assumed that the machine, which\n",
    "did not have error correcting memory, had been affected by a cosmic ray particle flipping \"bit 12\" of a 32-bit number! "
   ]
  },
  {
   "cell_type": "code",
   "execution_count": 40,
   "id": "8854c33f-be29-4212-8c7c-a9f5e1eb0d7d",
   "metadata": {},
   "outputs": [
    {
     "name": "stdout",
     "output_type": "stream",
     "text": [
      "    s = 00000000000000000000000000010100\n",
      "sflip = 00000000000000000001000000010100\n",
      "iflip = 4116\n",
      "iflip - i = 4096\n"
     ]
    }
   ],
   "source": [
    "# Set a value\n",
    "i=20\n",
    "s=\"{:032b}\".format(i)\n",
    "print(\"    s =\",s)\n",
    "\n",
    "# \"Flip\" a bit\n",
    "iflip=i | 0b00000000000000000001000000010100   # use the vertical bar \"|\" which means logical \"or\" the two values\n",
    "\n",
    "# Examine the results\n",
    "sflip=\"{:032b}\".format(iflip)\n",
    "print(\"sflip =\",sflip)\n",
    "print(\"iflip =\",iflip)\n",
    "print(\"iflip - i =\",iflip - i)"
   ]
  },
  {
   "cell_type": "markdown",
   "id": "aee0d6bf-1bb3-482d-a4c5-acf499cb366a",
   "metadata": {},
   "source": [
    "### Floating point numbers are more involved\n",
    "A floating point number is a value that can have some fractional part e.g. 1.3 .\n",
    "Floating point numbers are represented in a format (describe in class ). In Python floating point numbers\n",
    "use a 64-bit representation by default ( see class notes and https://en.wikipedia.org/wiki/Double-precision_floating-point_format ). \n",
    "\n",
    "We can examine this representation using the Python \"struct\" package. Fully understanding the \"struct\" package is a little\n",
    "involved, here we use it as a means to generate the underlying computer hardware representation of a floating point number without\n",
    "going into all its details."
   ]
  },
  {
   "cell_type": "code",
   "execution_count": 90,
   "id": "f875dc8a-7ea2-4862-bd7f-6b66ebe0cda5",
   "metadata": {},
   "outputs": [
    {
     "name": "stdout",
     "output_type": "stream",
     "text": [
      "0100000000101000000000000000000000000000000000000000000000000000\n",
      "sign = 0 \n",
      "biased exponent = 10000000010 \n",
      "mantissa =  1000000000000000000000000000000000000000000000000000\n"
     ]
    }
   ],
   "source": [
    "# Set a floating point number ( in many languages we can add a decimal point to indicate a number\n",
    "# is to be treated as floating point - even if it is a whole number.  This makes then computer store the\n",
    "# number using the floating point format). \n",
    "x=12.\n",
    "\n",
    "# Use \"struct\" to generate the underlying binary representation\n",
    "# and print the result\n",
    "s=\"\".join([f\"{b:08b}\" for b in struct.pack(\">d\", x)])\n",
    "print(s)\n",
    "\n",
    "# Now lets look at the parts\n",
    "s_sign=s[0:0+1]\n",
    "s_biased_exponent=s[1:1+11]\n",
    "s_mantissa=s[12:12+52]\n",
    "print( \"sign =\", s_sign, \"\\nbiased exponent =\", s_biased_exponent, \"\\nmantissa = \",  s_mantissa )"
   ]
  },
  {
   "cell_type": "markdown",
   "id": "77adb611-7e76-4fc9-acb9-e5e9f37553b8",
   "metadata": {},
   "source": [
    "### Lets check how it works!"
   ]
  },
  {
   "cell_type": "code",
   "execution_count": 91,
   "id": "26053f54-3f64-4f8a-aa78-56f3c22da7bb",
   "metadata": {},
   "outputs": [
    {
     "name": "stdout",
     "output_type": "stream",
     "text": [
      "8\n"
     ]
    }
   ],
   "source": [
    "# What is the exponent part\n",
    "epart=2**(0b10000000010-1023)\n",
    "print(epart)"
   ]
  },
  {
   "cell_type": "code",
   "execution_count": 92,
   "id": "063e2321-7925-4d23-967e-d7599e21a7f1",
   "metadata": {},
   "outputs": [
    {
     "name": "stdout",
     "output_type": "stream",
     "text": [
      "1.5\n"
     ]
    }
   ],
   "source": [
    "# What is the mantissa part\n",
    "v=0.5\n",
    "mpart=1.\n",
    "for c in s_mantissa:\n",
    "    if c == '1':\n",
    "     mpart=mpart+v\n",
    "    v=v*0.5\n",
    "print(mpart)"
   ]
  },
  {
   "cell_type": "code",
   "execution_count": 93,
   "id": "698cd7d8-8bcf-49f3-82dc-9983d9e788f0",
   "metadata": {},
   "outputs": [
    {
     "name": "stdout",
     "output_type": "stream",
     "text": [
      "12.0\n"
     ]
    }
   ],
   "source": [
    "# What is exponent x mantissa\n",
    "print(mpart*epart)"
   ]
  },
  {
   "cell_type": "code",
   "execution_count": 87,
   "id": "d6133763-f9a7-4570-a499-f5301771e518",
   "metadata": {},
   "outputs": [
    {
     "data": {
      "text/plain": [
       "(-12.0,)"
      ]
     },
     "execution_count": 87,
     "metadata": {},
     "output_type": "execute_result"
    }
   ],
   "source": [
    "# 1. what happens if we flip the sign bit\n",
    "s_new=0b1100000000101000000000000000000000000000000000000000000000000000\n",
    "struct.unpack('>d',int.to_bytes(s_new,8,'big'))"
   ]
  },
  {
   "cell_type": "code",
   "execution_count": 88,
   "id": "a0b55e5c-704c-4b80-8f4a-161d5dee13d9",
   "metadata": {},
   "outputs": [
    {
     "data": {
      "text/plain": [
       "(12.000000000000002,)"
      ]
     },
     "execution_count": 88,
     "metadata": {},
     "output_type": "execute_result"
    }
   ],
   "source": [
    "# 2. what happens if we flip the last bit of the mantissa\n",
    "s_new=0b0100000000101000000000000000000000000000000000000000000000000001\n",
    "struct.unpack('>d',int.to_bytes(s_new,8,'big'))"
   ]
  },
  {
   "cell_type": "code",
   "execution_count": 89,
   "id": "792f39fb-b9e5-4baf-88b4-aef27fd03334",
   "metadata": {},
   "outputs": [
    {
     "data": {
      "text/plain": [
       "(24.0,)"
      ]
     },
     "execution_count": 89,
     "metadata": {},
     "output_type": "execute_result"
    }
   ],
   "source": [
    "# 3. what happens if we flip the least significant bit of the exponent\n",
    "s_new=0b0100000000111000000000000000000000000000000000000000000000000000\n",
    "struct.unpack('>d',int.to_bytes(s_new,8,'big'))"
   ]
  },
  {
   "cell_type": "code",
   "execution_count": 97,
   "id": "12b160b1-070c-481f-b363-7a9e0a8658c3",
   "metadata": {},
   "outputs": [
    {
     "data": {
      "text/plain": [
       "(6.675221575521604e-308,)"
      ]
     },
     "execution_count": 97,
     "metadata": {},
     "output_type": "execute_result"
    }
   ],
   "source": [
    "# 4. what happens if we flip the most significant bit of the exponent\n",
    "s_new=0b0000000000101000000000000000000000000000000000000000000000000000\n",
    "struct.unpack('>d',int.to_bytes(s_new,8,'big'))"
   ]
  },
  {
   "cell_type": "markdown",
   "id": "5db2b0bd-1248-4bd8-883b-b607e62d6d3a",
   "metadata": {},
   "source": [
    "### Fortunately cosmic rays are rare and most computer hardware includes some sort of error correcting bits in memory. So bit flips very rarely happen - we think! \n",
    "### On systems like the Mars helicopter radiation protection and multiple copies of same hardware are sometimes used to guard against bit-flips. Space hardware also typically uses older, larger transistors that have more elctrons in each memory cell. "
   ]
  },
  {
   "cell_type": "code",
   "execution_count": null,
   "id": "e16183dd-d2e2-41d5-b6d3-93929460dfd2",
   "metadata": {},
   "outputs": [],
   "source": [
    "#"
   ]
  }
 ],
 "metadata": {
  "kernelspec": {
   "display_name": "Python 3",
   "language": "python",
   "name": "python3"
  },
  "language_info": {
   "codemirror_mode": {
    "name": "ipython",
    "version": 3
   },
   "file_extension": ".py",
   "mimetype": "text/x-python",
   "name": "python",
   "nbconvert_exporter": "python",
   "pygments_lexer": "ipython3",
   "version": "3.8.8"
  }
 },
 "nbformat": 4,
 "nbformat_minor": 5
}
