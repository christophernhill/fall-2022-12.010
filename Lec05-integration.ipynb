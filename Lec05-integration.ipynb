{
 "cells": [
  {
   "cell_type": "code",
   "execution_count": null,
   "id": "54981989-4adb-42a4-9788-cf3cd9fa86a4",
   "metadata": {},
   "outputs": [],
   "source": [
    "import numpy as np\n",
    "import matplotlib.pyplot as plt"
   ]
  },
  {
   "cell_type": "code",
   "execution_count": null,
   "id": "c7922ebc-d07c-4de2-b8a0-5a702fdd2f49",
   "metadata": {},
   "outputs": [],
   "source": [
    "# Define trigonometric function to integrate\n",
    "def fx_sin(x):\n",
    "    import math\n",
    "    # print(\"fx evlauted at x=\",x)\n",
    "    return math.sin(x)\n",
    "\n",
    "# Lets define its analytic integral is we know it\n",
    "def a_int_fx_sin(x):\n",
    "    import math\n",
    "    return -math.cos(x)"
   ]
  },
  {
   "cell_type": "code",
   "execution_count": null,
   "id": "5a53dc6f-c71d-405d-b362-e4f5d57536d2",
   "metadata": {},
   "outputs": [],
   "source": [
    "# Define more interesting function to integrate\n",
    "def fx_pow(x):\n",
    "    # print(\"fx evlauted at x=\",x)\n",
    "    return 4.*x**3\n",
    "\n",
    "# Lets define its analytic integral is we know it\n",
    "def a_int_fx_pow(x):\n",
    "    return x**4"
   ]
  },
  {
   "cell_type": "code",
   "execution_count": null,
   "id": "5efebf4a-b881-4fe2-bf40-26f6f25e0672",
   "metadata": {},
   "outputs": [],
   "source": [
    "# Define simple function to integrate\n",
    "def fx_lin(x):\n",
    "        # print(\"fx evlauted at x=\",x)\n",
    "        return 2*x\n",
    "    \n",
    "# Lets define its analytic integral is we know it\n",
    "def a_int_fx_lin(x):\n",
    "        return x**2"
   ]
  },
  {
   "cell_type": "code",
   "execution_count": null,
   "id": "5dd14e97-6e25-4382-8050-1ac402f8ef6c",
   "metadata": {},
   "outputs": [],
   "source": [
    "# Select a function\n",
    "func_to_use=\"trig\"\n",
    "# func_to_use=\"pow\"\n",
    "# func_to_use=\"lin\"\n",
    "\n",
    "if func_to_use == \"lin\":\n",
    "    def fx(x):\n",
    "        return fx_lin(x)\n",
    "    def a_int_fx(x):\n",
    "        return a_int_fx_lin(x)\n",
    "    \n",
    "if func_to_use == \"pow\":\n",
    "    def fx(x):\n",
    "        return fx_pow(x)\n",
    "    def a_int_fx(x):\n",
    "        return a_int_fx_pow(x)    \n",
    "    \n",
    "if func_to_use == \"trig\":\n",
    "    def fx(x):\n",
    "        return fx_sin(x)\n",
    "    def a_int_fx(x):\n",
    "        return a_int_fx_sin(x)    "
   ]
  },
  {
   "cell_type": "code",
   "execution_count": null,
   "id": "3c62aede-e0e1-4595-ae4a-0ce4f1f27dc5",
   "metadata": {},
   "outputs": [],
   "source": [
    "# Create a sequence of discrete values for evaluating function.\n",
    "xvals= np.linspace(0,5,25)\n",
    "dx=xvals[1]-xvals[0]\n",
    "\n",
    "# Plot the function and its integral at the sample points (we know the closed form integral in these examples)\n",
    "fig=plt.figure(figsize=(16, 12))\n",
    "ax = [fig.add_subplot(1,2,i+1) for i in range(2)]\n",
    "# Function\n",
    "ax[0].plot(xvals,[fx(x) for x in xvals],'o-',markersize=12);\n",
    "ax[0].set_xlabel(\"x\")\n",
    "ax[0].set_ylabel(\"f(x)\");\n",
    "# Integral\n",
    "ax[1].plot(xvals,[a_int_fx(x) for x in xvals],'o-',markersize=12);\n",
    "ax[1].set_xlabel(\"x\")\n",
    "ax[1].set_ylabel(\"int_f(x)\");"
   ]
  },
  {
   "cell_type": "code",
   "execution_count": null,
   "id": "8172dbdd-be83-499d-887f-de28f5a168ac",
   "metadata": {},
   "outputs": [],
   "source": [
    "# Routines to help plot the integration approximating rectangles.\n",
    "def vline(x,fx,dx):\n",
    "    xlo,ylo=x,0\n",
    "    xhi,yhi=x,fx(x)\n",
    "    xmidhi,ymidhi=x,0.5*(fx(x)+fx(x+dx))\n",
    "    xmidlo,ymidlo=x,0.5*(fx(x)+fx(x-dx))\n",
    "    return [xlo, xhi, xmidhi, xmidlo], [ylo, yhi, ymidhi, ymidlo]\n",
    "\n",
    "def hline(x,fx,dx):\n",
    "    ymid=0.5*(fx(x)+fx(x+dx))\n",
    "    xlo,ylo=x,ymid\n",
    "    xhi,yhi=x+dx,ymid\n",
    "    return [xlo,xhi],[ylo,yhi]"
   ]
  },
  {
   "cell_type": "code",
   "execution_count": null,
   "id": "714e084b-f69d-4976-a44e-1437f934cbe4",
   "metadata": {},
   "outputs": [],
   "source": [
    "# Make a illustrative plot of function and simple integration approximation rectangles\n",
    "plt.figure(figsize=(16, 12))\n",
    "\n",
    "# Plot function evlauted at the xval values\n",
    "plt.plot(xvals,[fx(x) for x in xvals],'o',markersize=12)\n",
    "\n",
    "# Not draw vertical and horizonal lines for rectangles\n",
    "xval=xvals[0]\n",
    "vl=vline(xval,fx,dx)\n",
    "plt.plot([xval,xval],[vl[1][i] for i in [0,2]],'k')\n",
    "for xval in xvals[1:-1]:\n",
    "    vl=vline(xval,fx,dx);plt.plot(vl[0][0:4],[vl[1][i] for i in [0,1,2,3]],'k')\n",
    "xval=xvals[-1]\n",
    "plt.plot([xval,xval],[vl[1][i] for i in [0,2]],'k')\n",
    "for xval in xvals[:-1]:   \n",
    "    hl=hline(xval,fx,dx);plt.plot(hl[0],hl[1],'k')\n",
    "plt.xlabel(\"x\")\n",
    "plt.ylabel(\"f(x)\");"
   ]
  },
  {
   "cell_type": "code",
   "execution_count": null,
   "id": "a9186792-0220-49f9-a024-577124c9408c",
   "metadata": {},
   "outputs": [],
   "source": [
    "# Now lets make a very simple integrator function\n",
    "def myint(fx, xs ):\n",
    "    total_a=0\n",
    "    dx=xs[1]-xs[0]\n",
    "    for xval in xs[:-1]:\n",
    "        midy=0.5*(fx(xval)+fx(xval+dx))\n",
    "        a=midy*dx\n",
    "        total_a=total_a+a\n",
    "    return total_a"
   ]
  },
  {
   "cell_type": "code",
   "execution_count": null,
   "id": "d7dffe09-5a7f-47d7-b4f7-8322e8212d98",
   "metadata": {},
   "outputs": [],
   "source": [
    "# Lets see how well it works\n",
    "ni=myint(fx,xvals)\n",
    "ai=( a_int_fx(xvals[-1]) - a_int_fx(xvals[0]) )\n",
    "print(\"Numerical integral =\", ni  )\n",
    "print(\"Error = \", ni - ai )\n",
    "print(\"Percent error =\",(ni-ai)/(0.5*(ni+ai))*100,\"%\")"
   ]
  },
  {
   "cell_type": "code",
   "execution_count": null,
   "id": "4e3de83f-c6bd-4ec4-8e87-0a9f3e2d9e41",
   "metadata": {},
   "outputs": [],
   "source": [
    "# The Scipy package provide a built-in numerical integrator that fits higher order curves to the function\n",
    "# evaluation to come up with a better fit for an integral.\n",
    "#\n",
    "# The actual usage is quite similar i.e. define a function to evaluate and pass in to \"integrator\"\n",
    "#\n",
    "# The integrator is written for a general function dy/dt=f(y,t) so we create a stub function\n",
    "# to use our simple fx(x) defined earlier.\n",
    "#\n",
    "from scipy.integrate import odeint\n",
    "def fgenx(y,t):\n",
    "    return fx(t)\n",
    "ys = odeint(fgenx, 0, xvals )\n",
    "ni=ys[-1]\n",
    "print(\"Numerical integral =\", ni  )\n",
    "print(\"Error = \", ni - ai )\n",
    "print(\"Percent error =\",(ni-ai)/(0.5*(ni+ai))*100,\"%\")\n",
    "errvec=np.abs(ys.flatten()-[ a_int_fx(xv) for xv in xvals]) + a_int_fx(xvals[0])\n",
    "plt.plot(errvec);"
   ]
  },
  {
   "cell_type": "code",
   "execution_count": null,
   "id": "80a3e102-5c15-4872-a054-277707a79be0",
   "metadata": {},
   "outputs": [],
   "source": [
    "# The scipy odeintegrator also allows us to specify a desired accuracy to try and achieve\n",
    "# For different accuracies it will use different step sizes and algorithms.\n",
    "ys = odeint(fgenx, 0, xvals, atol=1.e-16)\n",
    "ni=ys[-1]\n",
    "print(\"Numerical integral =\", ni  )\n",
    "print(\"Error = \", ni - ai )\n",
    "print(\"Percent error =\",(ni-ai)/(0.5*(ni+ai))*100,\"%\")\n",
    "errvec=ys.flatten()-[ a_int_fx(xv) for xv in xvals] + a_int_fx(xvals[0])\n",
    "plt.plot(errvec);"
   ]
  },
  {
   "cell_type": "markdown",
   "id": "b4d02790-8752-4d80-8bf5-986bec72bc15",
   "metadata": {},
   "source": [
    "### Internally odeint uses code from a library called lsoda ( https://github.com/cran/odesolve/blob/master/src/lsoda.f ). The inner workings of this library are quite complex and are somewhat doumented in the articles by Alan Hindmarsh ( https://computing.llnl.gov/sites/default/files/ODEPACK_pub1_u88007.pdf )  and Linda Petzold ( https://cse.cs.ucsb.edu/sites/cse.cs.ucsb.edu/files/publications/SCE000136.pdf )."
   ]
  },
  {
   "cell_type": "code",
   "execution_count": null,
   "id": "9a87ac4d-cdeb-4b00-b70e-d7b6db53dfe7",
   "metadata": {},
   "outputs": [],
   "source": []
  }
 ],
 "metadata": {
  "kernelspec": {
   "display_name": "Python 3 (ipykernel)",
   "language": "python",
   "name": "python3"
  },
  "language_info": {
   "codemirror_mode": {
    "name": "ipython",
    "version": 3
   },
   "file_extension": ".py",
   "mimetype": "text/x-python",
   "name": "python",
   "nbconvert_exporter": "python",
   "pygments_lexer": "ipython3",
   "version": "3.9.2"
  }
 },
 "nbformat": 4,
 "nbformat_minor": 5
}
