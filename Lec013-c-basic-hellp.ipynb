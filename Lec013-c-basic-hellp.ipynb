{
 "cells": [
  {
   "cell_type": "markdown",
   "id": "6a1310fa-bb93-494d-b25e-b2addabfab41",
   "metadata": {},
   "source": [
    "#### Some basic C syntax\n",
    "Here we use the C++17 jupyter kernel. The code in these cells can also be copied into individual files and complied using the gcc compiler. The C++17 jupyter kernel is a little less fussy than the compiler. It will allow variables with a type in a cell, for example. The cells behave almost like C, but some behaviors are different. The notebook is good for testing small fragments, but a true C program is file based."
   ]
  },
  {
   "cell_type": "markdown",
   "id": "32462562-02b0-4218-af59-bf25535cf369",
   "metadata": {},
   "source": [
    "A minimal C program"
   ]
  },
  {
   "cell_type": "code",
   "execution_count": 1,
   "id": "dfdfba77-b9ac-488f-8a36-afeee09f5d88",
   "metadata": {},
   "outputs": [],
   "source": [
    "#include <stdio.h>\n",
    "#include <math.h>\n",
    "int main()\n",
    "{\n",
    "    \n",
    " /* Write Hello */\n",
    " printf(\"Hello\\n\");\n",
    "    \n",
    " /* Write Hello and the value of PI */\n",
    " /* Two statements separated by ;   */\n",
    " /* PI is defined in math.h         */\n",
    " /* without math.h you get an error */\n",
    " /* at compile time if you try to   */\n",
    " /* print PI.                       */\n",
    " fprintf(stdout,\"Hello\\n\");   fprintf(stdout,\"pi == %f\\n\",M_PI);\n",
    "    \n",
    " return 1;\n",
    "}"
   ]
  },
  {
   "cell_type": "code",
   "execution_count": 2,
   "id": "1938ac33-af04-46e3-8612-5b4824856d19",
   "metadata": {},
   "outputs": [
    {
     "name": "stdout",
     "output_type": "stream",
     "text": [
      "Hello\n",
      "Hello\n",
      "pi == 3.141593\n"
     ]
    },
    {
     "data": {
      "text/plain": [
       "1"
      ]
     },
     "execution_count": 2,
     "metadata": {},
     "output_type": "execute_result"
    }
   ],
   "source": [
    "main()"
   ]
  },
  {
   "cell_type": "markdown",
   "id": "b6c60298-c36f-44d5-bd91-97cf1409511d",
   "metadata": {},
   "source": [
    "A minimal C program - return only returns one value."
   ]
  },
  {
   "cell_type": "code",
   "execution_count": 22,
   "id": "f671ec71-01a8-4e5a-bbda-001a5cf1bc9b",
   "metadata": {},
   "outputs": [],
   "source": [
    "int main()\n",
    "{\n",
    "    \n",
    " /* Write Hello */\n",
    " printf(\"Hello\\n\");\n",
    "    \n",
    " /* Write Hello and the value of PI */\n",
    " /* Two statements separated by ;   */\n",
    " /* PI is defined in math.h         */\n",
    " /* without math.h you get an error */\n",
    " /* at compile time if you try to   */\n",
    " /* print PI.                       */\n",
    " fprintf(stdout,\"Hello\\n\");   fprintf(stdout,\"pi == %f\\n\",M_PI);\n",
    "    \n",
    " return 1, 2;\n",
    "}"
   ]
  },
  {
   "cell_type": "code",
   "execution_count": 23,
   "id": "5d3d1d3e-8809-49d8-9c98-b64ed6483c5f",
   "metadata": {},
   "outputs": [
    {
     "name": "stdout",
     "output_type": "stream",
     "text": [
      "Hello\n",
      "Hello\n",
      "pi == 3.141593\n"
     ]
    },
    {
     "data": {
      "text/plain": [
       "2"
      ]
     },
     "execution_count": 23,
     "metadata": {},
     "output_type": "execute_result"
    }
   ],
   "source": [
    "main()"
   ]
  },
  {
   "cell_type": "markdown",
   "id": "96c3ce43-b6b6-4e61-beb9-ab43215eccef",
   "metadata": {},
   "source": [
    "Example of C program that takes arguments"
   ]
  },
  {
   "cell_type": "code",
   "execution_count": 1,
   "id": "d875cffb-38b7-449e-b1b8-037026c8b5e2",
   "metadata": {},
   "outputs": [],
   "source": [
    "#include <stdio.h>\n",
    "#include <math.h>\n",
    "\n",
    "/* Program to calculate the area of a circle */\n",
    "int main( int argc, char *argv[] )\n",
    "{\n",
    "    float radius;\n",
    "     int   nmatch;\n",
    "\n",
    "     if ( argc != 2 ) {\n",
    "      printf(\"Usage: %s radius\\n\",argv[0]);\n",
    "      exit(-1);\n",
    "     }\n",
    "\n",
    "     nmatch = sscanf(argv[1],\"%f\\n\",&radius);\n",
    "     if ( nmatch == 0 ) {\n",
    "      printf(\"Usage: %s radius\\n\",argv[0]);\n",
    "      exit(-1);\n",
    "     }\n",
    "\n",
    "     printf(\"Radius == %f\\n\",radius);\n",
    "     printf(\"  Area == %f\\n\",M_PI*radius*radius);\n",
    "}"
   ]
  },
  {
   "cell_type": "code",
   "execution_count": 2,
   "id": "208ebedf-fe04-4718-8819-e3ba32cf9599",
   "metadata": {},
   "outputs": [
    {
     "name": "stdout",
     "output_type": "stream",
     "text": [
      "Radius == 1.000000\n",
      "  Area == 3.141593\n"
     ]
    },
    {
     "data": {
      "text/plain": [
       "0"
      ]
     },
     "execution_count": 2,
     "metadata": {},
     "output_type": "execute_result"
    }
   ],
   "source": [
    "char *A[2];\n",
    "A[0]=(char *)\"\\0\";\n",
    "A[1]=(char *)\"1\";\n",
    "main(2,A) "
   ]
  },
  {
   "cell_type": "markdown",
   "id": "f41739e2-028a-44b7-9284-1081c4ddc4ce",
   "metadata": {},
   "source": [
    "Fundamental variable types in C"
   ]
  },
  {
   "cell_type": "code",
   "execution_count": 18,
   "id": "1ffd0309-e1b0-4d2a-bd52-1258f9047781",
   "metadata": {},
   "outputs": [],
   "source": [
    "#include <stdio.h>      \n",
    "int main() {\n",
    "  short a;\n",
    "  long b;\n",
    "  long long c;\n",
    "  long double d;\n",
    "  double e;\n",
    "  float f;\n",
    "  int g;\n",
    "  char h;\n",
    "  void *p;\n",
    "\n",
    "  printf(\"size of short = %lu bytes\\n\", sizeof(a));\n",
    "  printf(\"size of long = %lu bytes\\n\", sizeof(b));\n",
    "  printf(\"size of long long = %lu bytes\\n\", sizeof(c));\n",
    "  printf(\"size of long double = %lu bytes\\n\", sizeof(d));\n",
    "  printf(\"size of double = %lu bytes\\n\", sizeof(e));\n",
    "  printf(\"size of float = %lu bytes\\n\", sizeof(f));\n",
    "  printf(\"size of int = %lu bytes\\n\", sizeof(g));\n",
    "  printf(\"size of char = %lu bytes\\n\", sizeof(h));\n",
    "  printf(\"size of pointer = %lu bytes\\n\", sizeof(p));\n",
    "  return 0;\n",
    "}"
   ]
  },
  {
   "cell_type": "markdown",
   "id": "da6c7117-e225-4d4c-965d-7362bf90decc",
   "metadata": {},
   "source": [
    "Conditionals in C - not the cell below generates compiler warning because = used where probably == was meant."
   ]
  },
  {
   "cell_type": "code",
   "execution_count": 13,
   "id": "ba290b02-456c-4901-a89e-885ad698f304",
   "metadata": {
    "tags": []
   },
   "outputs": [
    {
     "name": "stderr",
     "output_type": "stream",
     "text": [
      "input_line_32:11:10: warning: using the result of an assignment as a condition without parentheses [-Wparentheses]\n",
      "  if ( i = 0 ) {\n",
      "       ~~^~~\n",
      "input_line_32:11:10: note: place parentheses around the assignment to silence this warning\n",
      "  if ( i = 0 ) {\n",
      "         ^\n",
      "       (    )\n",
      "input_line_32:11:10: note: use '==' to turn this assignment into an equality comparison\n",
      "  if ( i = 0 ) {\n",
      "         ^\n",
      "         ==\n",
      "input_line_32:16:10: warning: using the result of an assignment as a condition without parentheses [-Wparentheses]\n",
      "  if ( i = 1 ) {\n",
      "       ~~^~~\n",
      "input_line_32:16:10: note: place parentheses around the assignment to silence this warning\n",
      "  if ( i = 1 ) {\n",
      "         ^\n",
      "       (    )\n",
      "input_line_32:16:10: note: use '==' to turn this assignment into an equality comparison\n",
      "  if ( i = 1 ) {\n",
      "         ^\n",
      "         ==\n"
     ]
    }
   ],
   "source": [
    "#include <stdio.h>\n",
    "#include <errno.h>\n",
    "\n",
    "int main(){\n",
    "\n",
    "  int i = 0;\n",
    "\n",
    "  /* == returns logical result, proper conditional */\n",
    "  if ( i == 0 ) {\n",
    "    printf(\"test 1: i is set to %d\\n\",i);\n",
    "  }\n",
    "\n",
    "  /* Using = not == for equality tests is a common typing mistake in C    */\n",
    "  /* Using = is valid syntax but it doesn't mean what you think it means! */\n",
    "  /* i = 0 is false ( it returns 0 ) by definition, irrespective of the   */\n",
    "  /* value of i.                                                          */\n",
    "  if ( i = 0 ) {\n",
    "    printf(\"test 2: i is set to %d\\n\",i);\n",
    "  }\n",
    "\n",
    "  /* i = 1 is true ( it returns non-zero ) by definition, irrespective of */\n",
    "  /* the value of i.                                                      */\n",
    "  if ( i = 1 ) {\n",
    "    printf(\"test 3: i is set to %d\\n\",i);\n",
    "  }\n",
    "\n",
    "}"
   ]
  },
  {
   "cell_type": "code",
   "execution_count": 14,
   "id": "ab422450-e9db-4e47-8b97-74b524a05e52",
   "metadata": {},
   "outputs": [
    {
     "name": "stdout",
     "output_type": "stream",
     "text": [
      "test 1: i is set to 0\n",
      "test 3: i is set to 1\n"
     ]
    },
    {
     "data": {
      "text/plain": [
       "0"
      ]
     },
     "execution_count": 14,
     "metadata": {},
     "output_type": "execute_result"
    }
   ],
   "source": [
    "main()"
   ]
  },
  {
   "cell_type": "markdown",
   "id": "5715b240-4d45-4f36-9732-fa0129c51586",
   "metadata": {},
   "source": [
    "Loops in C"
   ]
  },
  {
   "cell_type": "code",
   "execution_count": 6,
   "id": "8f7db2e7-1ce0-429f-99c8-45aa9f424bb5",
   "metadata": {},
   "outputs": [
    {
     "name": "stdout",
     "output_type": "stream",
     "text": [
      "for i=0\n",
      "for i=1\n",
      "for i=2\n",
      "for i=3\n",
      "for i=4\n",
      "for i=5\n",
      "for i=6\n",
      "for i=7\n",
      "for i=8\n",
      "for i=9\n",
      "while i=10\n",
      "while i=9\n",
      "while i=8\n",
      "while i=7\n",
      "while i=6\n",
      "while i=5\n",
      "while i=4\n",
      "while i=3\n",
      "while i=2\n",
      "while i=1\n",
      "do while i=0\n",
      "do while i=1\n",
      "do while i=2\n",
      "do while i=3\n",
      "do while i=4\n",
      "do while i=5\n",
      "do while i=6\n",
      "do while i=7\n",
      "do while i=8\n",
      "do while i=9\n",
      "do while, 2 i=10\n"
     ]
    },
    {
     "data": {
      "text/plain": [
       "0"
      ]
     },
     "execution_count": 6,
     "metadata": {},
     "output_type": "execute_result"
    }
   ],
   "source": [
    "#include <stdio.h>\n",
    "int main() {\n",
    "    int i;\n",
    "    int L=10;\n",
    "    // for loop condition evaluates at start of loop iteration\n",
    "    // for loop has ( initial; condition; loop \"increment\" ) { }\n",
    "    // syntax.\n",
    "    for (i=0; i<L; i=i+1){\n",
    "        printf(\"for i=%d\\n\",i);\n",
    "    }\n",
    "    // while loop condition evaluates at start of loop iteration\n",
    "    while (i>0){\n",
    "        printf(\"while i=%d\\n\",i);\n",
    "        --i;\n",
    "    }\n",
    "    // do while loop condition evaluates at end of loop iteration\n",
    "    do {\n",
    "        printf(\"do while i=%d\\n\",i);\n",
    "        ++i;\n",
    "    } while (i<L);\n",
    "    // do while loops always execute once\n",
    "    do {\n",
    "        printf(\"do while, 2 i=%d\\n\",i);\n",
    "        ++i;\n",
    "    } while (i<L);\n",
    "\n",
    "    return 0;\n",
    "}\n",
    "main()"
   ]
  },
  {
   "cell_type": "markdown",
   "id": "4fe630a3-21be-4329-b478-0a569c72f688",
   "metadata": {},
   "source": [
    "Arrays in C - we don't have to call our function main"
   ]
  },
  {
   "cell_type": "code",
   "execution_count": 34,
   "id": "41198928-c77d-4e6d-b9db-d7555a6a2780",
   "metadata": {},
   "outputs": [],
   "source": [
    "#include <stdio.h>\n",
    "// CPP macro\n",
    "#define L 10\n",
    "int arrfunc(){\n",
    "    int AI[L];\n",
    "    int i;\n",
    "    i=0;\n",
    "    // 0 based indexing\n",
    "    for (i=0;i<L;++i){\n",
    "        AI[i]=i;\n",
    "    }\n",
    "    for (i=0;i<L;++i){\n",
    "        printf(\"AI[%d]=%d\\n\",i,AI[i]);\n",
    "    }\n",
    "    return 0;\n",
    "};"
   ]
  },
  {
   "cell_type": "code",
   "execution_count": 33,
   "id": "07ebc0ed-74e6-4b74-9584-53d884456abd",
   "metadata": {},
   "outputs": [
    {
     "name": "stdout",
     "output_type": "stream",
     "text": [
      "AI[0]=0\n",
      "AI[1]=1\n",
      "AI[2]=2\n",
      "AI[3]=3\n",
      "AI[4]=4\n",
      "AI[5]=5\n",
      "AI[6]=6\n",
      "AI[7]=7\n",
      "AI[8]=8\n",
      "AI[9]=9\n"
     ]
    },
    {
     "data": {
      "text/plain": [
       "0"
      ]
     },
     "execution_count": 33,
     "metadata": {},
     "output_type": "execute_result"
    }
   ],
   "source": [
    "arrfunc()"
   ]
  },
  {
   "cell_type": "markdown",
   "id": "a998ae0d-47d6-4d5e-83eb-241c8c54b16e",
   "metadata": {},
   "source": [
    "Arrays in C are pointers"
   ]
  },
  {
   "cell_type": "code",
   "execution_count": 47,
   "id": "f24bfa67-e1de-4ec1-a05a-b98c189c9863",
   "metadata": {},
   "outputs": [],
   "source": [
    "#include <stdio.h>\n",
    "// CPP macro\n",
    "#define L 10\n",
    "int arrfunc(){\n",
    "    int AI[L];\n",
    "    int *p=AI;\n",
    "    int i;\n",
    "    i=0;\n",
    "    // 0 based indexing\n",
    "    for (i=0;i<L;++i){\n",
    "        *(p+i)=i;\n",
    "    }\n",
    "    for (i=0;i<L;++i){\n",
    "        printf(\"AI[%d]=%d\\n\",i,AI[i]);\n",
    "    }\n",
    "    return 0;\n",
    "};"
   ]
  },
  {
   "cell_type": "code",
   "execution_count": 48,
   "id": "e2ca0fb5-7323-43d7-a6c9-1ffd3b3baddd",
   "metadata": {},
   "outputs": [
    {
     "name": "stdout",
     "output_type": "stream",
     "text": [
      "AI[0]=0\n",
      "AI[1]=1\n",
      "AI[2]=2\n",
      "AI[3]=3\n",
      "AI[4]=4\n",
      "AI[5]=5\n",
      "AI[6]=6\n",
      "AI[7]=7\n",
      "AI[8]=8\n",
      "AI[9]=9\n"
     ]
    },
    {
     "data": {
      "text/plain": [
       "0"
      ]
     },
     "execution_count": 48,
     "metadata": {},
     "output_type": "execute_result"
    }
   ],
   "source": [
    "arrfunc()"
   ]
  },
  {
   "cell_type": "code",
   "execution_count": null,
   "id": "95977d36-40b8-4ea9-b818-4ef201b049b6",
   "metadata": {},
   "outputs": [],
   "source": []
  }
 ],
 "metadata": {
  "kernelspec": {
   "display_name": "C++17",
   "language": "C++17",
   "name": "xcpp17"
  },
  "language_info": {
   "codemirror_mode": "text/x-c++src",
   "file_extension": ".cpp",
   "mimetype": "text/x-c++src",
   "name": "c++",
   "version": "17"
  }
 },
 "nbformat": 4,
 "nbformat_minor": 5
}
