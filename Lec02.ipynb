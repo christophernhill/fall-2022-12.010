{
 "cells": [
  {
   "cell_type": "markdown",
   "metadata": {},
   "source": [
    "<H1>Examples of operator usage"
   ]
  },
  {
   "cell_type": "code",
   "execution_count": null,
   "metadata": {},
   "outputs": [],
   "source": [
    "# Example of assign and opertor assign\n",
    "a=b=3\n",
    "a+=3\n",
    "# a=b+=3 # Does not work (remove first # to test)\n",
    "a,b"
   ]
  },
  {
   "cell_type": "markdown",
   "metadata": {},
   "source": [
    "<H2>Example of object comparisons (verus variables)"
   ]
  },
  {
   "cell_type": "code",
   "execution_count": null,
   "metadata": {},
   "outputs": [],
   "source": [
    "x = ['apple', 'banana']  # if x = y = 'string' is used, x is y\n",
    "y = ['apple', 'banana']\n",
    "z = x\n",
    "print('x is z ', x is z)\n",
    "# returns True because z is the same object as x\n",
    "print('x is y ', x is y)\n",
    "# returns False because x is not the same object as y, even if they have the same content\n",
    "print('x == y ', x == y)\n",
    "# to demonstrate, the difference betweeen 'is' and '==': this comparison returns True because x is equal to y\n",
    "print('z was ',z)\n",
    "x += ['pear']   # Notice change if [] is removed from the assignment\n",
    "print('x is now ',x)\n",
    "print('z is now ',z)\n",
    "print('\\nNow try with variables')\n",
    "x = 1\n",
    "y = 1\n",
    "z = x\n",
    "print('x is z ', x is z)\n",
    "print('x is y ', x is y)  # This returning that x and y are the same value\n",
    "print('x == y ', x == y)\n",
    "print('z was ',z)\n",
    "x += 2   # Notice change if [] is removed from the assignment\n",
    "print('x is now ',x)\n",
    "print('z is now ',z)  # See how the 'z is now' lines differ"
   ]
  },
  {
   "cell_type": "markdown",
   "metadata": {},
   "source": [
    "<H2>Example of membership "
   ]
  },
  {
   "cell_type": "code",
   "execution_count": null,
   "metadata": {},
   "outputs": [],
   "source": [
    "x = ['apple', \"bananas\"] # Single quotes foe strings ; Double quotes if single quote in string\n",
    "\n",
    "print(\"Is banana in \",x,\"banana\" in x)\n",
    "\n"
   ]
  },
  {
   "cell_type": "markdown",
   "metadata": {},
   "source": [
    "# Boolean algebra \n",
    "These cells look at various aspects of using Boolean algebra to implement <b>branching</b> structures"
   ]
  },
  {
   "cell_type": "code",
   "execution_count": null,
   "metadata": {},
   "outputs": [],
   "source": [
    "''' Boolean algebra: Simple if statement.  Syntax -- Notice the : at tne the line that \n",
    " Change value below and see what happens in next cell '''\n",
    "a = 10\n",
    "if a == 10:\n",
    "    print('a equals' ,a)\n",
    "elif a == 12:\n",
    "    print('a equal ',a)    \n",
    "else: \n",
    "    print('10 or 12 does not equal ',a)\n",
    "print('Test complete')"
   ]
  },
  {
   "cell_type": "code",
   "execution_count": null,
   "metadata": {},
   "outputs": [],
   "source": [
    "# Test showing the logicals are not fully test\n",
    "a = 12 # Once 10 is tried, set a = 11;\n",
    "if a == 11 and c == d:\n",
    "    print('a == 11 and c == d')\n",
    "    \n",
    "else:\n",
    "    print('a does not equal 11 or c != d ') \n",
    "    \n",
    "'Test complete'"
   ]
  },
  {
   "cell_type": "markdown",
   "metadata": {},
   "source": [
    "<H2> Examples of for and while loops and use of or operators"
   ]
  },
  {
   "cell_type": "code",
   "execution_count": null,
   "metadata": {},
   "outputs": [],
   "source": [
    "# Example of for loop \n",
    "n = 10  # Set a value of n\n",
    "for x in (1,2,3,4,n):\n",
    "    n += 1\n",
    "    print('2 to power',x,2**x,'; 2^',x,2^x,' n ',n)\n",
    "print('At end of loop n is ',n)\n",
    "# XOR  table\n",
    "print('False^True ',False^True)\n",
    "print('False^False',False^False)\n",
    "print('True^False ',True^False)\n",
    "print('True^True  ', True^True)"
   ]
  },
  {
   "cell_type": "code",
   "execution_count": null,
   "metadata": {},
   "outputs": [],
   "source": [
    "# Example of while loop with break (why is 'print' red?)\n",
    "i = 1\n",
    "while i < 6:\n",
    "   print('i is ',i)\n",
    "   i += 1\n",
    "   if i >= 4:\n",
    "        break\n",
    "    \n",
    "print('While loop completed with i ',i)    "
   ]
  },
  {
   "cell_type": "code",
   "execution_count": null,
   "metadata": {},
   "outputs": [],
   "source": [
    "# Example using a for loop to read file\n",
    "f = open('Lec02.ipynb', 'r')\n",
    "n = 0 \n",
    "for x in f:\n",
    "    print(x)\n",
    "    n += 1 # n++ does not work\n",
    "    if n > 4:\n",
    "        break\n",
    "print('First 4 lines read')\n",
    "f.close()\n",
    "    \n"
   ]
  },
  {
   "cell_type": "code",
   "execution_count": null,
   "metadata": {},
   "outputs": [],
   "source": []
  }
 ],
 "metadata": {
  "kernelspec": {
   "display_name": "Python 3",
   "language": "python",
   "name": "python3"
  },
  "language_info": {
   "codemirror_mode": {
    "name": "ipython",
    "version": 3
   },
   "file_extension": ".py",
   "mimetype": "text/x-python",
   "name": "python",
   "nbconvert_exporter": "python",
   "pygments_lexer": "ipython3",
   "version": "3.7.4"
  }
 },
 "nbformat": 4,
 "nbformat_minor": 4
}
