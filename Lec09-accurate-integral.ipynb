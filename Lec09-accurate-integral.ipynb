{
 "cells": [
  {
   "cell_type": "markdown",
   "id": "478e5d20-2941-4c29-9bb6-eed68e31f3a7",
   "metadata": {},
   "source": [
    "### More accurate integration is possible using \"Simpson's\" rule\n",
    "\n",
    "https://en.wikipedia.org/wiki/Simpson%27s_rule\n",
    "\n",
    "this fits quadratic polynomial (instead of quadrilaterals from earlier) to consecutive sets of 3 points \n",
    "\n",
    "$\n",
    "f(x_{j})\n",
    "$\n",
    ".\n",
    "\n",
    "\n",
    "For a function divided into an even number of subintervals, N, then Simpsons rule for the approximate integral, I, of a function f can be written\n",
    "\n",
    "\n",
    "$$\n",
    "I = \\sum_{i=0}^{i=\\frac{N}{2}-1}\\frac{h}{3}\\left[ f( x_{2i} ) + 4f(x_{2i+1}) + f(x_{2i+2} ) \\right]\n",
    "$$\n",
    "\n",
    "where $h$ is the subinterval width."
   ]
  },
  {
   "cell_type": "code",
   "execution_count": null,
   "id": "48982b41-8a40-4e3b-bc50-7d30c3b56411",
   "metadata": {},
   "outputs": [],
   "source": [
    "import numpy as np\n",
    "\n",
    "def trap(f, a, b, N ):\n",
    "    total_a=0\n",
    "    dx=(b-a)/(N)\n",
    "    xval=a\n",
    "    for i in [*range(0,N)]:\n",
    "        midy=0.5*(f(xval)+f(xval+dx))\n",
    "        area=midy*dx\n",
    "        total_a=total_a+area\n",
    "        xval=xval+dx\n",
    "    # print(xval)\n",
    "    return total_a\n",
    "\n",
    "def simpson(f, a, b, N):\n",
    "    h=(b-a)/(N)\n",
    "    x0=a\n",
    "    ival=0\n",
    "    for i in [*range(0, int(N/2) )]:\n",
    "        x1=x0+h\n",
    "        x2=x0+2*h\n",
    "        ival=ival+h/3*(f(x0) + 4*f(x1) + f(x2))\n",
    "        x0=x0+2*h\n",
    "    # print(x0)\n",
    "    return ival\n",
    "\n",
    "f=np.cos\n",
    "\n",
    "a=0\n",
    "b=2*np.pi/4\n",
    "N=10\n",
    "tans=1.\n",
    "print('simpson = ', simpson(f,a,b,N)-tans )\n",
    "print('   trap = ', trap(f,a,b,N)-tans    )"
   ]
  },
  {
   "cell_type": "code",
   "execution_count": null,
   "id": "88e26e5a-307a-4642-aed9-7207bf2bfc31",
   "metadata": {},
   "outputs": [],
   "source": [
    "import scipy.integrate as si\n",
    "N=10\n",
    "dx=(b-a)/(N)\n",
    "x=np.linspace(a,b,N+1)\n",
    "y=f(x)\n",
    "si.simpson(y,x)-1."
   ]
  },
  {
   "cell_type": "code",
   "execution_count": null,
   "id": "55173571-f58f-4f05-8fb7-41b510ecd4d9",
   "metadata": {},
   "outputs": [],
   "source": []
  }
 ],
 "metadata": {
  "kernelspec": {
   "display_name": "Python 3 (ipykernel)",
   "language": "python",
   "name": "python3"
  },
  "language_info": {
   "codemirror_mode": {
    "name": "ipython",
    "version": 3
   },
   "file_extension": ".py",
   "mimetype": "text/x-python",
   "name": "python",
   "nbconvert_exporter": "python",
   "pygments_lexer": "ipython3",
   "version": "3.9.2"
  }
 },
 "nbformat": 4,
 "nbformat_minor": 5
}
