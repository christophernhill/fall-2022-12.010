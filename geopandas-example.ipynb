{
 "cells": [
  {
   "cell_type": "code",
   "execution_count": null,
   "id": "75aa7fcc-88e5-4c5a-aa79-fa9c6d931b4d",
   "metadata": {},
   "outputs": [],
   "source": [
    "# Simple geopandas exampe ( from https://geopandas.org/getting_started/introduction.html )\n",
    "#\n",
    "# illustrate \"polyarea\" like problem with builtin New York Borough dataset - nybb\n",
    "#\n",
    "import geopandas\n",
    "\n",
    "path_to_data = geopandas.datasets.get_path(\"nybb\")\n",
    "gdf = geopandas.read_file(path_to_data)\n",
    "\n",
    "gdf"
   ]
  },
  {
   "cell_type": "code",
   "execution_count": null,
   "id": "b8ea8f31-4551-4d22-b9f2-227490a9f65a",
   "metadata": {},
   "outputs": [],
   "source": [
    "# Set things up\n",
    "gdf = gdf.set_index(\"BoroName\")"
   ]
  },
  {
   "cell_type": "code",
   "execution_count": null,
   "id": "c02c951e-c7cc-4706-bb81-c40379e9b6b0",
   "metadata": {},
   "outputs": [],
   "source": [
    "gdf[\"area\"] = gdf.area\n",
    "gdf[\"boundary\"] = gdf.boundary"
   ]
  },
  {
   "cell_type": "code",
   "execution_count": null,
   "id": "938e74d4-385f-4cba-8d66-eafd92676314",
   "metadata": {},
   "outputs": [],
   "source": [
    "display(gdf['area'], gdf[\"boundary\"] )"
   ]
  },
  {
   "cell_type": "code",
   "execution_count": null,
   "id": "224c7853-06e2-4b53-8aee-6f8378d3d95e",
   "metadata": {},
   "outputs": [],
   "source": [
    "# Libraries like geopandas have higher-level functions builtin e.g.\n",
    "# Let's plot the shapes of each Borough, colored by area.\n",
    "#\n",
    "# this only needs one line because the gdf.plot function knows that the\n",
    "# gdf. object (a GeoDataFrame) has an attribute .geometry, that it uses to make the outline.\n",
    "#\n",
    "gdf.plot(\"area\", legend=True)"
   ]
  },
  {
   "cell_type": "code",
   "execution_count": null,
   "id": "aef87ad4-4d67-4b75-8cdf-4c75ae3a626d",
   "metadata": {},
   "outputs": [],
   "source": [
    "type(gdf)"
   ]
  },
  {
   "cell_type": "code",
   "execution_count": null,
   "id": "332d4aba-589d-4eef-bc0e-30f7796133d7",
   "metadata": {},
   "outputs": [],
   "source": [
    "# GeoDataFrame has a defauly display method for geometry and boundary too\n",
    "display( gdf.geometry[3] )\n",
    "display( gdf.boundary[3] )"
   ]
  },
  {
   "cell_type": "code",
   "execution_count": null,
   "id": "ed68e594-2dd1-4e9c-a34d-172fcac31834",
   "metadata": {},
   "outputs": [],
   "source": [
    "# GeoDataFrame (like Pandas) is built on Python dictionaries\n",
    "gdf.keys()"
   ]
  },
  {
   "cell_type": "code",
   "execution_count": null,
   "id": "918dd0a3-d919-4f18-9c9a-ebec71c75597",
   "metadata": {},
   "outputs": [],
   "source": [
    "?geopandas.geodataframe.GeoDataFrame"
   ]
  },
  {
   "cell_type": "code",
   "execution_count": null,
   "id": "6ccf49af-cdca-4e44-8291-c54f8cc57f25",
   "metadata": {},
   "outputs": [],
   "source": [
    "# We can also plot the boundaries by hand \n",
    "#\n",
    "# e.g. for Manhattan \n",
    "#\n",
    "import matplotlib.pyplot as plt\n",
    "for b in gdf.boundary[3]:\n",
    "    # x=[t[0] for t in [*gdf.boundary[3][30].coords]];y=[t[1] for t in [*gdf.boundary[3][30].coords]]\n",
    "    x=[t[0] for t in [*b.coords]];y=[t[1] for t in [*b.coords]]\n",
    "    plt.plot(x,y)"
   ]
  },
  {
   "cell_type": "code",
   "execution_count": null,
   "id": "d7e7d3cd-196b-4c2c-9dd9-1bcf882b2840",
   "metadata": {},
   "outputs": [],
   "source": []
  }
 ],
 "metadata": {
  "kernelspec": {
   "display_name": "Python 3 (ipykernel)",
   "language": "python",
   "name": "python3"
  },
  "language_info": {
   "codemirror_mode": {
    "name": "ipython",
    "version": 3
   },
   "file_extension": ".py",
   "mimetype": "text/x-python",
   "name": "python",
   "nbconvert_exporter": "python",
   "pygments_lexer": "ipython3",
   "version": "3.7.11"
  }
 },
 "nbformat": 4,
 "nbformat_minor": 5
}
