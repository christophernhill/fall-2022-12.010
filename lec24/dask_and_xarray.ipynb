{
 "cells": [
  {
   "cell_type": "code",
   "execution_count": null,
   "id": "73c18f8b-3da5-47e7-a012-c8ea0574a72d",
   "metadata": {},
   "outputs": [],
   "source": [
    "import xarray as xr"
   ]
  },
  {
   "cell_type": "code",
   "execution_count": null,
   "id": "b7bbe3e5-a3a3-49b6-8664-678d83c4d9a6",
   "metadata": {},
   "outputs": [],
   "source": [
    "# The air-temperature dataset we looked at previously is a Dask array\n",
    "# together with coordinate and other meta-data variables.\n",
    "ds = xr.tutorial.open_dataset('air_temperature',\n",
    "                              chunks={'lat': 25, 'lon': 25, 'time': -1})\n",
    "display(ds.air.data)\n",
    "print(ds.air.data)"
   ]
  },
  {
   "cell_type": "code",
   "execution_count": null,
   "id": "6bb860cd-7a81-40f8-a3f4-dc90f9a1ab47",
   "metadata": {},
   "outputs": [],
   "source": [
    "# We can look at how to evaluation works in this case\n",
    "ds.air.data.max().visualize()"
   ]
  },
  {
   "cell_type": "code",
   "execution_count": null,
   "id": "1225f0b0-4c04-4306-85c6-f70296719e7a",
   "metadata": {},
   "outputs": [],
   "source": [
    "# we can extend to chunk multiple files\n",
    "!git clone https://github.com/pangeo-data/tutorial-data.git "
   ]
  },
  {
   "cell_type": "code",
   "execution_count": null,
   "id": "c25ba3ce-c5d0-4712-96a4-46cd5d4c3870",
   "metadata": {},
   "outputs": [],
   "source": [
    "dsnc=xr.open_mfdataset('tutorial-data/sst/*.nc')"
   ]
  },
  {
   "cell_type": "code",
   "execution_count": null,
   "id": "16f9c8c7-5be5-43ef-8b47-76775e12cb7d",
   "metadata": {},
   "outputs": [],
   "source": [
    "import numpy as np\n",
    "np.nanmax(dsnc.sst.data).visualize()"
   ]
  },
  {
   "cell_type": "code",
   "execution_count": null,
   "id": "cff55a63-5acc-44e3-be85-e6ebbe1e20a1",
   "metadata": {},
   "outputs": [],
   "source": [
    "import dask\n",
    "import graphviz\n",
    "from dask.dot import dot_graph, task_label, label, to_graphviz\n",
    "?to_graphviz"
   ]
  },
  {
   "cell_type": "code",
   "execution_count": null,
   "id": "d53a1060-5a92-4d32-bb11-11336b512016",
   "metadata": {},
   "outputs": [],
   "source": [
    "import xarray as xr\n",
    "mur_sst = xr.open_zarr('https://mur-sst.s3.us-west-2.amazonaws.com/zarr-v1',consolidated=True)"
   ]
  },
  {
   "cell_type": "code",
   "execution_count": null,
   "id": "f76e9795-d562-4ce6-ade7-efb8ca2fd7ad",
   "metadata": {},
   "outputs": [],
   "source": [
    "import xarray as xr\n",
    "mur_sst = xr.open_zarr('https://mur-sst.s3.us-west-2.amazonaws.com/zarr-v1',consolidated=True)\n",
    "display(mur_sst)\n",
    "display(mur_sst.analysed_sst.data.blocks[0,0,0])"
   ]
  },
  {
   "cell_type": "code",
   "execution_count": null,
   "id": "a8040c9e-d318-4b15-90ee-d52aa122717c",
   "metadata": {},
   "outputs": [],
   "source": [
    "mur_sst.analysed_sst.data.blocks[0,0,0]"
   ]
  },
  {
   "cell_type": "code",
   "execution_count": null,
   "id": "1daf83e7-1903-4eaf-9617-3127e0e1f0b8",
   "metadata": {},
   "outputs": [],
   "source": [
    "mur_sst.analysed_sst.data.blocks[0,0,0][0,0,0].compute()"
   ]
  },
  {
   "cell_type": "code",
   "execution_count": null,
   "id": "a177fc19-b171-4e25-927f-5142dbcc31ae",
   "metadata": {},
   "outputs": [],
   "source": [
    "%time sst_ts_handle=mur_sst.analysed_sst.sel(lat=41.62,method='nearest').sel(lon=slice(-69.0,-68.0),time=slice('2002-06-01','2003-06-01'))"
   ]
  },
  {
   "cell_type": "code",
   "execution_count": null,
   "id": "6d585352-8de2-4252-8d6f-2c6e8cb81e6a",
   "metadata": {},
   "outputs": [],
   "source": [
    "import matplotlib.pyplot as plt"
   ]
  },
  {
   "cell_type": "code",
   "execution_count": null,
   "id": "f22de20f-d2e8-4fa4-86eb-73452a4b456c",
   "metadata": {},
   "outputs": [],
   "source": [
    "plt.plot(sst_ts-273)"
   ]
  },
  {
   "cell_type": "code",
   "execution_count": null,
   "id": "cb340cb2-8961-4e3a-8f0b-da9cf5158750",
   "metadata": {},
   "outputs": [],
   "source": [
    "sst_ts_handle"
   ]
  },
  {
   "cell_type": "code",
   "execution_count": null,
   "id": "fa5d08ee-6797-45a8-bf25-636d3136a9f4",
   "metadata": {},
   "outputs": [],
   "source": [
    "ds=mur_sst.analysed_sst\n",
    "mask_lon=(ds.lon >= -71.5) & ( ds.lon <= -68)\n",
    "mask_lat=(ds.lat >=  41) & ( ds.lat <=  43)\n",
    "import dask\n",
    "with dask.config.set(**{'array.slicing.split_large_chunks': False}):\n",
    "    ds_masked=ds.where(mask_lon & mask_lat, drop=True)"
   ]
  },
  {
   "cell_type": "code",
   "execution_count": null,
   "id": "0c2ba741-7e1f-4458-b1b1-dc9c034e2f9b",
   "metadata": {},
   "outputs": [],
   "source": [
    "sst_patch=ds_masked.data.blocks[0,0,0][0,:,:].compute()"
   ]
  },
  {
   "cell_type": "code",
   "execution_count": null,
   "id": "5cb92db5-350c-4699-b7f8-79e33c0d6ec0",
   "metadata": {},
   "outputs": [],
   "source": [
    "ds_masked.data.blocks[0,0,0][0,:,:]"
   ]
  },
  {
   "cell_type": "code",
   "execution_count": null,
   "id": "3c67e838-5fe4-43dc-95cb-f991402c2af6",
   "metadata": {},
   "outputs": [],
   "source": [
    "%time sst_patch=ds_masked.data.blocks[0,0,0][0,:,:].compute()"
   ]
  },
  {
   "cell_type": "code",
   "execution_count": null,
   "id": "bf2dcdf0-c615-41b6-acb9-41779c2f0c3e",
   "metadata": {},
   "outputs": [],
   "source": [
    "plt.contourf(sst_patch-273);plt.colorbar()"
   ]
  },
  {
   "cell_type": "code",
   "execution_count": null,
   "id": "016c34fb-ee87-41c5-9b88-9a2dcaf5aebb",
   "metadata": {},
   "outputs": [],
   "source": [
    "%time sst_patches=ds_masked.data.blocks[0:10,0,0][0:10,:,:].compute()"
   ]
  },
  {
   "cell_type": "code",
   "execution_count": null,
   "id": "9e79ccb7-0ac9-4458-85e5-641278d32f93",
   "metadata": {},
   "outputs": [],
   "source": [
    "plt.contourf(sst_patches[5,:,:]-273)"
   ]
  },
  {
   "cell_type": "code",
   "execution_count": null,
   "id": "7940bcc7-0558-460b-a9d3-43b62571f036",
   "metadata": {},
   "outputs": [],
   "source": [
    "ds_masked.data.blocks[0:10,0,0][0:10,:,:]"
   ]
  },
  {
   "cell_type": "code",
   "execution_count": null,
   "id": "26fd4078-2aec-40bc-85de-8962a435bd52",
   "metadata": {},
   "outputs": [],
   "source": [
    "%time sst_patches=ds_masked.sel(time=slice('2002-06-01','2003-06-01')).compute()"
   ]
  },
  {
   "cell_type": "code",
   "execution_count": null,
   "id": "724c2576-e71c-4f65-b162-934765c210ff",
   "metadata": {},
   "outputs": [],
   "source": [
    "import numpy as np\n",
    "np.nanmin(sst_patches)"
   ]
  },
  {
   "cell_type": "code",
   "execution_count": null,
   "id": "fb5328bb-5076-46d1-91d9-4a207cda1304",
   "metadata": {},
   "outputs": [],
   "source": [
    "plt.contourf(sst_patches[0,:,:],vmax=mn+2*mv,vmin=mn-2*mv,cmap=cmap);plt.colorbar()"
   ]
  },
  {
   "cell_type": "code",
   "execution_count": null,
   "id": "1414ac7d-c294-4c27-b116-694fbb8b0acc",
   "metadata": {},
   "outputs": [],
   "source": [
    "[np.nanmean(sst_patches), np.nanstd(sst_patches)]"
   ]
  },
  {
   "cell_type": "code",
   "execution_count": null,
   "id": "20d61b5d-f3f2-434c-a685-3ed48bbafc19",
   "metadata": {},
   "outputs": [],
   "source": [
    "mn=np.nanmean(sst_patches)\n",
    "mv=np.nanstd(sst_patches)"
   ]
  },
  {
   "cell_type": "code",
   "execution_count": null,
   "id": "e87be2ea-64c4-4870-b307-baec47374033",
   "metadata": {},
   "outputs": [],
   "source": [
    "cmap = plt.cm.get_cmap(\"gist_ncar\")"
   ]
  },
  {
   "cell_type": "code",
   "execution_count": null,
   "id": "d7303eab-bd57-4323-9778-ba5bfa1f0618",
   "metadata": {},
   "outputs": [],
   "source": [
    "sst_patches[0,:,:]"
   ]
  },
  {
   "cell_type": "code",
   "execution_count": null,
   "id": "5bdadeda-b7fa-4174-9edc-d641f437077e",
   "metadata": {},
   "outputs": [],
   "source": []
  }
 ],
 "metadata": {
  "kernelspec": {
   "display_name": "Python 3 (ipykernel)",
   "language": "python",
   "name": "python3"
  },
  "language_info": {
   "codemirror_mode": {
    "name": "ipython",
    "version": 3
   },
   "file_extension": ".py",
   "mimetype": "text/x-python",
   "name": "python",
   "nbconvert_exporter": "python",
   "pygments_lexer": "ipython3",
   "version": "3.7.11"
  }
 },
 "nbformat": 4,
 "nbformat_minor": 5
}
