{
 "cells": [
  {
   "cell_type": "code",
   "execution_count": null,
   "id": "cc8bc299-33f3-4f96-9fce-543d8571789c",
   "metadata": {},
   "outputs": [],
   "source": [
    "import numpy as np\n",
    "import dask.array as da\n",
    "\n",
    "# Create a regular numpy array\n",
    "data = np.arange(100_000).reshape(200, 500)\n",
    "print(data)\n",
    "data.max()"
   ]
  },
  {
   "cell_type": "code",
   "execution_count": null,
   "id": "4a1f0ad3-fa09-4e22-87bc-8b28cbb9b88a",
   "metadata": {},
   "outputs": [],
   "source": [
    "# Now create a dask counterpart\n",
    "# - the max() does not get evaluated yet!\n",
    "data_dask=da.from_array(data, chunks=(100, 100))\n",
    "display(data_dask)\n",
    "data_dask.max()"
   ]
  },
  {
   "cell_type": "code",
   "execution_count": null,
   "id": "0bc20854-de74-4342-8d2c-01215522da8d",
   "metadata": {},
   "outputs": [],
   "source": [
    "# We can see what would get evaluated\n",
    "dm=data_dask.max()\n",
    "display(dm)\n",
    "dm.visualize()"
   ]
  },
  {
   "cell_type": "code",
   "execution_count": null,
   "id": "608467ab-923f-4fb1-ad20-b3da0a27706a",
   "metadata": {},
   "outputs": [],
   "source": [
    "# Now is we want to evaluate we can use .compute()\n",
    "dm.compute()"
   ]
  },
  {
   "cell_type": "code",
   "execution_count": null,
   "id": "fea15446-b6c4-4e54-b991-f63e7e991f7e",
   "metadata": {},
   "outputs": [],
   "source": []
  }
 ],
 "metadata": {
  "kernelspec": {
   "display_name": "Python 3 (ipykernel)",
   "language": "python",
   "name": "python3"
  },
  "language_info": {
   "codemirror_mode": {
    "name": "ipython",
    "version": 3
   },
   "file_extension": ".py",
   "mimetype": "text/x-python",
   "name": "python",
   "nbconvert_exporter": "python",
   "pygments_lexer": "ipython3",
   "version": "3.7.11"
  }
 },
 "nbformat": 4,
 "nbformat_minor": 5
}
