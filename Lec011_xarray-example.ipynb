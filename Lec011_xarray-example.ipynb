{
 "cells": [
  {
   "cell_type": "code",
   "execution_count": null,
   "id": "bc3fba33-9635-4324-99c6-f0c752ccea86",
   "metadata": {},
   "outputs": [],
   "source": [
    "#\n",
    "# xarray is a multi-dimensional array tool which supports naming different \n",
    "# axes of arrays and having some arrays act as \"coordinates\" for others in\n",
    "# a \"dataset\". \n",
    "#\n",
    "import matplotlib.pyplot as plt\n",
    "import numpy as np\n",
    "import xarray as xr"
   ]
  },
  {
   "cell_type": "code",
   "execution_count": null,
   "id": "2c7c2817-4d12-4455-a10e-7689f5bf0d4a",
   "metadata": {},
   "outputs": [],
   "source": [
    "#\n",
    "# We can load an example 3d dataset of surface air temperatures over North America, every 6 hours from Jan 2013 to\n",
    "# Dec 2014, averaged over 2.5 x 2.5 degree horizontal areas\n",
    "#\n",
    "# an xarray contains \"coordinate variables\" and \"data variables\"\n",
    "# Data variables are sized to align with one or more of the coordinate variables.\n",
    "# This associates coordinates with individual items in a Data Varialble\n",
    "#\n",
    "# In xarray dataset below there is one Data Variable (called \"air\") and\n",
    "# its axes align with coordinate variable \"time\", \"lat\", \"lon\". \n",
    "#\n",
    "ds = xr.tutorial.load_dataset(\"air_temperature\")\n",
    "# Lets subtract 273.15 to put things in degress C\n",
    "ds=ds-273.15\n",
    "display( ds )"
   ]
  },
  {
   "cell_type": "code",
   "execution_count": null,
   "id": "88b5272f-1090-495d-8a10-5615d761e06e",
   "metadata": {},
   "outputs": [],
   "source": [
    "#\n",
    "# Quick look\n",
    "# - like pandas (and geopandas) with xarray the different variables can be referenced by name.\n",
    "#   both data variables and coordinate variables can be referenced by name. \n",
    "#\n",
    "#   In this dataset the lon and lat coordinates are a regular mesh so we can use\n",
    "#   matplotlib.contourf() to make a quick contour plot directly.\n",
    "#\n",
    "display( ds )\n",
    "display( ds.air.coords  )\n",
    "tn=0\n",
    "plt.contourf(ds.lon,ds.lat,ds.air[tn,:,:])\n",
    "ts=np.datetime_as_string(ds.time[tn].values,'h');\n",
    "plt.title(r\"Air Temperature ($^{\\rm o}$C) t=%s\"%(ts));plt.xlabel(r'Longitude ($^{\\rm o}$E)');plt.ylabel(r'Latitude ($^{\\rm o}$N)');plt.colorbar()"
   ]
  },
  {
   "cell_type": "code",
   "execution_count": null,
   "id": "e6072b6a-40f0-4f74-aef4-6900add2f55e",
   "metadata": {},
   "outputs": [],
   "source": [
    "#\n",
    "# the xarray class provides multiple helper functions that encapsulate common operations\n",
    "# - for example there is a helper function sel() that selects points that are close\n",
    "#   to a particular set of coordinate variables. \n",
    "#\n",
    "# Plot versus time near Boston (42N, 289E)\n",
    "#  use ds.sel to select nearest point\n",
    "#  subtract 273.15 to give Celcius\n",
    "#  ( *9/5 + 32 would be Farenheit! )\n",
    "#  \n",
    "#"
   ]
  },
  {
   "cell_type": "code",
   "execution_count": null,
   "id": "478fa50e-834e-4fac-b682-578b893dec00",
   "metadata": {},
   "outputs": [],
   "source": [
    "blon=289\n",
    "blat=42\n",
    "data_near_boston=ds.sel(method=\"nearest\",lat=[blat],lon=[blon]);\n",
    "temp_near_boston=data_near_boston[\"air\"][:,0,0];\n",
    "times=data_near_boston[\"time\"]\n",
    "\n",
    "plt.plot( times, temp_near_boston );\n",
    "plt.xticks(rotation = 90)\n",
    "plt.xlabel(\"Date\")\n",
    "plt.ylabel(r\"Degrees $^{\\circ}$C\")\n",
    "plt.title(\"Temperature %3.1fN, %3.1fE\"%(data_near_boston.lat.values[0],data_near_boston.lon.values[0]));"
   ]
  },
  {
   "cell_type": "code",
   "execution_count": null,
   "id": "cbc0581c-1a37-4076-9a19-5f1cf83a120e",
   "metadata": {},
   "outputs": [],
   "source": [
    "#\n",
    "#   we can use built in xarray function to get quick plots for statistics across all the points for all the times\n",
    "#   \n",
    "#\n",
    "ds_std=ds.std(dim=\"time\")\n",
    "ds_mean=ds.mean(dim=\"time\")\n",
    "ds_max=ds.max(dim=\"time\")\n",
    "ds_min=ds.min(dim=\"time\")\n",
    "ds_diff=ds_max-ds_min\n",
    "def quick_plot(d,t):\n",
    "    plt.contourf(d.lon,d.lat,d.air)\n",
    "    plt.xlabel(r\"Longitude, $^\\circ$E\")\n",
    "    plt.ylabel(r\"Latitude, $^\\circ$N\")\n",
    "    plt.title(t)\n",
    "    plt.colorbar()\n",
    "    plt.show()\n",
    "    \n",
    "quick_plot(ds_std,r\"Temperature std. dev 2013-2014, $^\\circ$C\")\n",
    "quick_plot(ds_mean,r\"Temperature mean 2013-2014, $^\\circ$C\")\n",
    "quick_plot(ds_max,r\"Temperature max 2013-2014, $^\\circ$C\")\n",
    "quick_plot(ds_min,r\"Temperature min 2013-2014, $^\\circ$C\")\n",
    "quick_plot(ds_diff,r\"$\\Delta$Temperature min 2013-2014, $^\\circ$C\")"
   ]
  },
  {
   "cell_type": "code",
   "execution_count": null,
   "id": "0d4b1562-8380-4d9f-9098-beef56ce97ea",
   "metadata": {},
   "outputs": [],
   "source": [
    "tmax_bos=( ds.resample(time=\"1MS\").max() ).sel(method=\"nearest\",lat=[blat],lon=[blon])[\"air\"][:,0,0] \n",
    "tmin_bos=( ds.resample(time=\"1MS\").min() ).sel(method=\"nearest\",lat=[blat],lon=[blon])[\"air\"][:,0,0] \n",
    "times=tmin_bos[\"time\"]\n",
    "plt.plot( times, tmax_bos-tmin_bos )\n",
    "plt.xticks(rotation = 90)\n",
    "plt.xlabel(\"Date\")\n",
    "plt.ylabel(r\"Degrees $^{\\circ}$C\")"
   ]
  },
  {
   "cell_type": "code",
   "execution_count": null,
   "id": "e2378aba-f6b5-4cc3-bcc2-3e9f60ccae44",
   "metadata": {},
   "outputs": [],
   "source": [
    "import hvplot.xarray\n",
    "# Use groupby processing\n",
    "ds.air.hvplot(groupby=\"time\", clim=(-5, 40) )"
   ]
  },
  {
   "cell_type": "code",
   "execution_count": null,
   "id": "da6e6c92-0002-4e1e-b850-5fffbbe3c41c",
   "metadata": {},
   "outputs": [],
   "source": [
    "# Derivatives\n",
    "ds.air[0,:,:].plot.contour(levels=30,add_colorbar=True)\n",
    "plt.show()\n",
    "ds.differentiate(\"lon\").air[0,:,:].plot.contour(levels=30,add_colorbar=True)"
   ]
  },
  {
   "cell_type": "code",
   "execution_count": null,
   "id": "725175bc-5307-4309-91cd-d1d9078d3083",
   "metadata": {},
   "outputs": [],
   "source": [
    "#\n",
    "# groupby processing can use predefined groups, for example \"season\" \n",
    "#\n",
    "?ds.groupby\n",
    "seasonal_mean = ds.groupby(\"time.season\").mean()\n",
    "seasonal_mean = seasonal_mean.reindex(season=[\"DJF\", \"MAM\", \"JJA\", \"SON\"])\n",
    "seasonal_mean.air.plot.contour(col=\"season\", levels=20, add_colorbar=True)"
   ]
  },
  {
   "cell_type": "code",
   "execution_count": null,
   "id": "af0bc428-59a5-4af9-9211-b55d2f4f02f5",
   "metadata": {},
   "outputs": [],
   "source": [
    "#\n",
    "#  xarray can be used with netCDF (a widely used self-describing data \"container\" standard in Earth Science)\n",
    "#  to look at remote sensed satellite data downloaded from NASA cloud sites.\n",
    "#\n",
    "#  Example reading NASA satellite data\n",
    "#\n",
    "#"
   ]
  },
  {
   "cell_type": "code",
   "execution_count": null,
   "id": "e77a7584-3e43-4b60-8002-842b2d7fcef0",
   "metadata": {},
   "outputs": [],
   "source": [
    "import s3fs\n",
    "import datetime as dt\n",
    "import fsspec\n",
    "import netCDF4\n",
    "import requests"
   ]
  },
  {
   "cell_type": "code",
   "execution_count": null,
   "id": "0b9f1ccc-c6b1-475e-879a-5240c434fb77",
   "metadata": {},
   "outputs": [],
   "source": [
    "fs = fsspec.filesystem(\"s3\", anon=True)\n",
    "# OR_ABI-L2-SSTF-M6_G17_s20212840000319_e20212840059385_c20212840104218.nc\n",
    "# fl=fs.glob(\"s3://noaa-goes17/ABI-L1b-RadF/2021/284/00/*M6C03*\")\n",
    "fl=fs.glob(\"s3://noaa-goes17/ABI-L2-SSTF/2021/284/00/*M6_*\")"
   ]
  },
  {
   "cell_type": "code",
   "execution_count": null,
   "id": "562951b9-3187-4737-8e0d-cf6131dc095e",
   "metadata": {},
   "outputs": [],
   "source": [
    "fn=\"https://noaa-goes17.s3.amazonaws.com/\"+'/'.join(fl[0].split('/')[1:])\n",
    "resp = requests.get(fn)"
   ]
  },
  {
   "cell_type": "code",
   "execution_count": null,
   "id": "c4eb55bc-ac1a-4bb0-bd4c-df1ebadf6ed2",
   "metadata": {},
   "outputs": [],
   "source": [
    "nc4_ds = netCDF4.Dataset(\"myds\",memory=resp.content)\n",
    "store = xr.backends.NetCDF4DataStore(nc4_ds)\n",
    "DS = xr.open_dataset(store)"
   ]
  },
  {
   "cell_type": "code",
   "execution_count": null,
   "id": "c1538091-a35f-4908-9a66-88c5b9fc7897",
   "metadata": {},
   "outputs": [],
   "source": [
    "DS"
   ]
  },
  {
   "cell_type": "code",
   "execution_count": null,
   "id": "e3ad3c38-9471-4c8e-814d-c1601f2c48d8",
   "metadata": {},
   "outputs": [],
   "source": [
    "#\n",
    "# xarray includes a masking function that can be used to select data with a particular\n",
    "# quality flag and in a particular range.\n",
    "#\n",
    "masked = DS.SST.where( (DS.DQF==0) & (DS.SST-273.15>5 ) & (DS.SST-273.15<35 ) )"
   ]
  },
  {
   "cell_type": "code",
   "execution_count": null,
   "id": "131533a2-65fc-4167-80a1-50ee36738547",
   "metadata": {},
   "outputs": [],
   "source": [
    "plt.figure(figsize=(100, 100))\n",
    "#plt.imshow(masked-273.15,cmap='prism')\n",
    "#plt.imshow(masked-273.15,cmap='gray')\n",
    "plt.imshow(masked-273.15,cmap='gist_ncar')\n",
    "foo=plt.colorbar()\n",
    "foo.ax.tick_params(axis='y',labelsize=96)\n",
    "# ax.xaxis.label.set_size(20)"
   ]
  },
  {
   "cell_type": "code",
   "execution_count": null,
   "id": "219febfa-691f-4d34-9d8a-3df1431ee815",
   "metadata": {},
   "outputs": [],
   "source": [
    "#\n",
    "# Now we can look at some climate model SST\n",
    "#\n",
    "\n",
    "import xarray as xr\n",
    "import requests\n",
    "import netCDF4\n",
    "\n",
    "\n",
    "fn=\"https://esgf-world.s3.amazonaws.com/CMIP6/CMIP/NOAA-GFDL/GFDL-CM4/historical/r1i1p1f1/Oday/tos/gr/v20180701/tos_Oday_GFDL-CM4_historical_r1i1p1f1_gr_20100101-20141231.nc\"\n",
    "resp = requests.get(fn)\n",
    "\n",
    "nc4_ds = netCDF4.Dataset(\"myds\",memory=resp.content)\n",
    "store = xr.backends.NetCDF4DataStore(nc4_ds)\n",
    "DS_model = xr.open_dataset(store)\n",
    "DS_model.tos.isel( time=284 ).plot(vmin=5,vmax=35,cmap='gist_ncar')"
   ]
  },
  {
   "cell_type": "code",
   "execution_count": null,
   "id": "c4cff932-49e9-42e7-be3f-9514af591f56",
   "metadata": {},
   "outputs": [],
   "source": []
  }
 ],
 "metadata": {
  "kernelspec": {
   "display_name": "Python 3 (ipykernel)",
   "language": "python",
   "name": "python3"
  },
  "language_info": {
   "codemirror_mode": {
    "name": "ipython",
    "version": 3
   },
   "file_extension": ".py",
   "mimetype": "text/x-python",
   "name": "python",
   "nbconvert_exporter": "python",
   "pygments_lexer": "ipython3",
   "version": "3.7.11"
  }
 },
 "nbformat": 4,
 "nbformat_minor": 5
}
