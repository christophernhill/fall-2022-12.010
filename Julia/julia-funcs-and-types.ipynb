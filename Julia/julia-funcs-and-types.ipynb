{
 "cells": [
  {
   "cell_type": "code",
   "execution_count": null,
   "id": "10cc87f3-08ea-4eec-9e4b-76ca77fc60c1",
   "metadata": {},
   "outputs": [],
   "source": [
    "# Julia functions can be defined in various\n",
    "# ways"
   ]
  },
  {
   "cell_type": "code",
   "execution_count": null,
   "id": "b4dbb4b1-d6dc-4391-a92a-7f732376241b",
   "metadata": {},
   "outputs": [],
   "source": [
    "# Note - this defines f as function with 1 method\n",
    "# A function can have more than one \"method\"\n",
    "f(x,y) = x + y"
   ]
  },
  {
   "cell_type": "code",
   "execution_count": null,
   "id": "e56c7482-b849-469e-b4aa-2316b7948ac1",
   "metadata": {},
   "outputs": [],
   "source": [
    "f(1,2)"
   ]
  },
  {
   "cell_type": "code",
   "execution_count": null,
   "id": "7c01b60c-a203-4329-85a6-c3a77b2ba148",
   "metadata": {},
   "outputs": [],
   "source": [
    "methods(f)"
   ]
  },
  {
   "cell_type": "code",
   "execution_count": null,
   "id": "f43f376a-ad32-4d15-a790-6bc6cad092b0",
   "metadata": {},
   "outputs": [],
   "source": [
    "# Can specify return \"type\"\n",
    "function f(x,y)::Int8\n",
    "    return x+y\n",
    "end"
   ]
  },
  {
   "cell_type": "code",
   "execution_count": null,
   "id": "5225a9f9-215f-4ef9-915d-215037d409cb",
   "metadata": {},
   "outputs": [],
   "source": [
    "f(1,2)"
   ]
  },
  {
   "cell_type": "code",
   "execution_count": null,
   "id": "bf596be6-8d2e-4eb5-ba9a-c88296dca1c4",
   "metadata": {},
   "outputs": [],
   "source": [
    "# Function \"broadcasting\"\n",
    "x=[1,2]\n",
    "y=[3,4]\n",
    "try\n",
    "   f(x,y)\n",
    "catch(err)\n",
    "    println(err)\n",
    "end\n",
    "a1=f.(x,y)\n",
    "a2 = @. f(x,y)\n",
    "println(a1)\n",
    "println(a2)"
   ]
  },
  {
   "cell_type": "code",
   "execution_count": null,
   "id": "1efe2e5f-a95f-4c92-9759-14323c075e0c",
   "metadata": {},
   "outputs": [],
   "source": [
    "try \n",
    "    f(256,256)\n",
    "catch(err)\n",
    "    println(err)\n",
    "end"
   ]
  },
  {
   "cell_type": "code",
   "execution_count": null,
   "id": "de9c7958-bc47-46c2-b6eb-fbb55f25847c",
   "metadata": {},
   "outputs": [],
   "source": []
  },
  {
   "cell_type": "code",
   "execution_count": null,
   "id": "7cf5df24-b972-4bc6-91d0-75f744f486e7",
   "metadata": {},
   "outputs": [],
   "source": [
    "# +, * etc... are functions\n",
    "*(1,2,3)"
   ]
  },
  {
   "cell_type": "code",
   "execution_count": null,
   "id": "af7846b2-6816-45b0-85c0-698b654d9014",
   "metadata": {},
   "outputs": [],
   "source": [
    "# Base operators have lots of methods for\n",
    "# different argument types\n",
    "methods(*)"
   ]
  },
  {
   "cell_type": "code",
   "execution_count": null,
   "id": "acf886a8-70d4-42ff-a461-d124784b2a9e",
   "metadata": {},
   "outputs": [],
   "source": [
    "# Anonynmous functions\n",
    "map(x->x^2+2x-1,[1,2,3])"
   ]
  },
  {
   "cell_type": "code",
   "execution_count": null,
   "id": "ec187a4d-4421-41af-9aae-41a27bbb5bad",
   "metadata": {},
   "outputs": [],
   "source": [
    "# Multiple return\n",
    "function f(x,y)\n",
    "    return x+y,x*y\n",
    "end"
   ]
  },
  {
   "cell_type": "code",
   "execution_count": null,
   "id": "95c7be67-5db1-46c0-95c8-33d7c4c56b39",
   "metadata": {},
   "outputs": [],
   "source": [
    "f(2,3)"
   ]
  },
  {
   "cell_type": "code",
   "execution_count": null,
   "id": "935fff89-829d-4bd1-bc18-e44eb5155e6d",
   "metadata": {},
   "outputs": [],
   "source": [
    "# Variable arguments (splatting)\n",
    "function f(x,y,z...)\n",
    "    println(z)\n",
    "end"
   ]
  },
  {
   "cell_type": "code",
   "execution_count": null,
   "id": "ab37ee58-9e1a-45bd-a355-db186d507707",
   "metadata": {},
   "outputs": [],
   "source": [
    "f(1,2,3)"
   ]
  },
  {
   "cell_type": "code",
   "execution_count": null,
   "id": "b36ead03-7e19-4c26-bb82-cae7448bd2af",
   "metadata": {},
   "outputs": [],
   "source": [
    "f(1,2,3,4)"
   ]
  },
  {
   "cell_type": "code",
   "execution_count": null,
   "id": "47c7cae5-b16d-4719-9eb0-6e150687ce9a",
   "metadata": {},
   "outputs": [],
   "source": [
    "# Optional args \n",
    "function f2(x=1,y=1,z...)\n",
    "    println(x)\n",
    "    println(y)\n",
    "    println(z)\n",
    "end"
   ]
  },
  {
   "cell_type": "code",
   "execution_count": null,
   "id": "7bbbff07-5328-4250-ada5-b9941efa55b3",
   "metadata": {},
   "outputs": [],
   "source": [
    "f2()"
   ]
  },
  {
   "cell_type": "code",
   "execution_count": null,
   "id": "e9091416-f8ec-484c-8b57-bd129659288f",
   "metadata": {},
   "outputs": [],
   "source": [
    "f2(2)"
   ]
  },
  {
   "cell_type": "code",
   "execution_count": null,
   "id": "d1278a9c-7388-4b14-a2de-6a8a85410a00",
   "metadata": {},
   "outputs": [],
   "source": [
    "f2(2,2)"
   ]
  },
  {
   "cell_type": "code",
   "execution_count": null,
   "id": "3d3abf40-4aca-40a8-ba39-336195e39ae1",
   "metadata": {},
   "outputs": [],
   "source": [
    "f2(2,2,3,4)"
   ]
  },
  {
   "cell_type": "code",
   "execution_count": null,
   "id": "5d1b578e-ff99-4fd7-9d83-79f8cdb8b7c9",
   "metadata": {},
   "outputs": [],
   "source": [
    "# Named arguments\n",
    "# Optional args and named args\n",
    "function f2(x=1,y=1,z...;a=3,b=7)\n",
    "    println(x)\n",
    "    println(y)\n",
    "    println(z)\n",
    "    println(a)\n",
    "    println(b)\n",
    "end"
   ]
  },
  {
   "cell_type": "code",
   "execution_count": null,
   "id": "39f58e96-59e5-49a3-a792-79c31ca1ac34",
   "metadata": {},
   "outputs": [],
   "source": [
    "f2(a=4,2,2,3,4)"
   ]
  },
  {
   "cell_type": "code",
   "execution_count": null,
   "id": "2106b51c-7f0a-4667-b618-a371ac30deb4",
   "metadata": {},
   "outputs": [],
   "source": [
    "# Generic names args\n",
    "function f3(;kwargs...)\n",
    "    println(kwargs)\n",
    "end"
   ]
  },
  {
   "cell_type": "code",
   "execution_count": null,
   "id": "3c3a9f15-d218-47a6-98a7-400910e49ad4",
   "metadata": {},
   "outputs": [],
   "source": [
    "f3()"
   ]
  },
  {
   "cell_type": "code",
   "execution_count": null,
   "id": "12036f40-60ff-430b-b1e9-ddd4ca884ce7",
   "metadata": {},
   "outputs": [],
   "source": [
    "f3(i=1)"
   ]
  },
  {
   "cell_type": "code",
   "execution_count": null,
   "id": "7a482ed4-0699-4e0c-9734-3f79f5a11c40",
   "metadata": {},
   "outputs": [],
   "source": [
    "f3(i=1,j=2)"
   ]
  },
  {
   "cell_type": "code",
   "execution_count": null,
   "id": "9632f4c6-e044-4496-bebe-4c50a079c6b3",
   "metadata": {},
   "outputs": [],
   "source": [
    "try\n",
    "    f3(7,i=1,j=2)\n",
    "catch(err)\n",
    "    println(err)\n",
    "end"
   ]
  },
  {
   "cell_type": "code",
   "execution_count": null,
   "id": "f6a85fa0-dddc-499d-8bbf-c4fbb139d4e4",
   "metadata": {},
   "outputs": [],
   "source": [
    "# Types can be used to select (\"dispatch\") functions\n",
    "function f4(x::Float64)\n",
    "    println(\"Float64 f4\")\n",
    "end\n",
    "function f4(x::Any)\n",
    "    println(\"Any f4\")\n",
    "end\n",
    "function f4(x::Int64)\n",
    "    println(\"Int64 f4\")\n",
    "end"
   ]
  },
  {
   "cell_type": "code",
   "execution_count": null,
   "id": "8da47ba9-f954-4d38-8000-5a37a7f228c3",
   "metadata": {},
   "outputs": [],
   "source": [
    "f4(\"boo\")"
   ]
  },
  {
   "cell_type": "code",
   "execution_count": null,
   "id": "2987f684-6b79-4597-8613-4bafc0f78107",
   "metadata": {},
   "outputs": [],
   "source": [
    "# Often use \"Abstract types\" for organizing type\n",
    "# hierarchy that controls \"dispatch\"\n",
    "abstract type Pet end\n",
    "struct Dog <: Pet \n",
    "end\n",
    "struct Cat <: Pet \n",
    "end\n",
    "struct Fish <: Pet\n",
    "end"
   ]
  },
  {
   "cell_type": "code",
   "execution_count": null,
   "id": "14633bd4-fbff-4f3e-a0dd-9ee3ff79ae6d",
   "metadata": {},
   "outputs": [],
   "source": [
    "x=Dog()\n",
    "println( typeof(x) <: Cat )\n",
    "println( typeof(x) <: Pet )"
   ]
  },
  {
   "cell_type": "code",
   "execution_count": null,
   "id": "1f6b414b-2139-4304-88a2-c5a9c589e9e2",
   "metadata": {},
   "outputs": [],
   "source": [
    "function pet_type(x::Cat)\n",
    "    println(\"Pet is a cat\")\n",
    "end\n",
    "function pet_type(x::Dog)\n",
    "    println(\"Pet is a dog\")\n",
    "end\n",
    "function pet_type(x::Pet)\n",
    "    println(\"Generic pet\")\n",
    "end"
   ]
  },
  {
   "cell_type": "code",
   "execution_count": null,
   "id": "d8f8633b-dd44-4943-a004-e2876dcaa18f",
   "metadata": {},
   "outputs": [],
   "source": [
    "pet_type(x)"
   ]
  },
  {
   "cell_type": "code",
   "execution_count": null,
   "id": "3fb98b84-b4ab-490f-9e46-aa26f03ad77c",
   "metadata": {},
   "outputs": [],
   "source": [
    "x=Fish()\n",
    "pet_type(x)"
   ]
  },
  {
   "cell_type": "code",
   "execution_count": null,
   "id": "7bef1223-6337-49e8-b99b-22f95684ba99",
   "metadata": {},
   "outputs": [],
   "source": [
    "# A more involved example\n",
    "# (from https://opensourc.es/blog/basics-multiple-dispatch/ )\n",
    "abstract type Animal end\n",
    "struct Lizard <: Animal name :: String end\n",
    "struct Rabbit <: Animal name :: String end\n",
    "\n",
    "race(l::Lizard, r::Rabbit) = \"$(l.name) wins in wall climbing.\"\n",
    "race(r::Rabbit, l::Lizard) = \"$(r.name) wins in a normal race.\"\n",
    "race(a::T, b::T) where T <: Animal = \"$(a.name) and $(b.name) run forever.\"\n",
    "\n",
    "function meet(a::Animal, b::Animal) \n",
    "    println(\"$(a.name) meets $(b.name) and they race!\")\n",
    "    println(\"Outcome: $(race(a,b))\")\n",
    "end\n",
    "\n",
    "bayi = Lizard(\"Bayi\")\n",
    "sally = Rabbit(\"Sally\")\n",
    "meet(bayi, sally)\n",
    "meet(sally, bayi)\n",
    "meet(sally, sally)"
   ]
  },
  {
   "cell_type": "code",
   "execution_count": null,
   "id": "dfa4595c-f220-45bb-ba33-edd789d54aff",
   "metadata": {},
   "outputs": [],
   "source": []
  }
 ],
 "metadata": {
  "kernelspec": {
   "display_name": "Julia 1.6.2",
   "language": "julia",
   "name": "julia-1.6"
  },
  "language_info": {
   "file_extension": ".jl",
   "mimetype": "application/julia",
   "name": "julia",
   "version": "1.6.2"
  }
 },
 "nbformat": 4,
 "nbformat_minor": 5
}
