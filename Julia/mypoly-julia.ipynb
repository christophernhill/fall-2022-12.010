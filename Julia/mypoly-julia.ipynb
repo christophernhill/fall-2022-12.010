{
 "cells": [
  {
   "cell_type": "code",
   "execution_count": null,
   "id": "5862b926-94d5-408b-a2d1-33dab6536789",
   "metadata": {},
   "outputs": [],
   "source": [
    "# Change this to where you have MyPoly\n",
    "# cd(\"/home/jpy_class/mit/12.010/cnh@mit.edu/poly-testing/fall-2021-12.010/Julia/MyPoly/MyPoly\")"
   ]
  },
  {
   "cell_type": "code",
   "execution_count": null,
   "id": "b924d920-ca99-4af8-b0f8-cd859d647dd2",
   "metadata": {},
   "outputs": [],
   "source": [
    "using Pkg\n",
    "Pkg.activate(\".\")"
   ]
  },
  {
   "cell_type": "code",
   "execution_count": null,
   "id": "541015d1-e2d8-42c8-9025-49a4a6f6f179",
   "metadata": {},
   "outputs": [],
   "source": [
    "using MyPoly"
   ]
  },
  {
   "cell_type": "code",
   "execution_count": null,
   "id": "684ddf87-89b2-4daa-a48c-5d3113af8dba",
   "metadata": {},
   "outputs": [],
   "source": [
    "p1=MyPoint(0.,0.)\n",
    "p2=MyPoint(1.,0.)\n",
    "p3=MyPoint(1.,1.)\n",
    "p4=MyPoint(0.,1.)\n",
    "p5=MyPoint(0.,0.)\n",
    "poly1=MyPolyVar([p1,p2,p3,p4,p5],10)\n",
    "a=area(poly1)"
   ]
  },
  {
   "cell_type": "code",
   "execution_count": null,
   "id": "25521985-af41-4711-b30d-9e9bd9d110cd",
   "metadata": {},
   "outputs": [],
   "source": []
  }
 ],
 "metadata": {
  "kernelspec": {
   "display_name": "Julia 1.6.2",
   "language": "julia",
   "name": "julia-1.6"
  },
  "language_info": {
   "file_extension": ".jl",
   "mimetype": "application/julia",
   "name": "julia",
   "version": "1.6.2"
  }
 },
 "nbformat": 4,
 "nbformat_minor": 5
}
