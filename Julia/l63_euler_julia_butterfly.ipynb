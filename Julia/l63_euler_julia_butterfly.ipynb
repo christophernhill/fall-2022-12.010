{
 "cells": [
  {
   "cell_type": "markdown",
   "id": "da532a18-91e8-497a-889c-9489b0900756",
   "metadata": {},
   "source": [
    "### Julia version of Lorenz 63 \n",
    "\n",
    "uses simple forward Euler time stepping and fixed small timestep."
   ]
  },
  {
   "cell_type": "code",
   "execution_count": null,
   "id": "a698ea69-b5b6-4871-8c31-e4dc54e50d88",
   "metadata": {},
   "outputs": [],
   "source": [
    "include(\"l63.jl\")"
   ]
  },
  {
   "cell_type": "code",
   "execution_count": null,
   "id": "ca11de2a-3d27-4b30-9849-90155bcd4a7f",
   "metadata": {},
   "outputs": [],
   "source": [
    "p=[10.,28.,8/3];\n",
    "du=[0.,0.,0.];\n",
    "u0=[0.,1.,1.05];\n",
    "nsteps=10000;\n",
    "uvals=zeros(3,nsteps);\n",
    "Δt=0.01;"
   ]
  },
  {
   "cell_type": "code",
   "execution_count": null,
   "id": "4c9301e8-7708-4a34-b347-38a4ba87f17e",
   "metadata": {},
   "outputs": [],
   "source": [
    "for i=1:nsteps\n",
    "    u0=u0+(l63!(du,u0,p,0); du*Δt)\n",
    "    uvals[:,i]=u0\n",
    "end"
   ]
  },
  {
   "cell_type": "code",
   "execution_count": null,
   "id": "aaf97392-1b8a-4158-afe1-08c0db02252f",
   "metadata": {},
   "outputs": [],
   "source": [
    "using Plots\n",
    "scatter(uvals[1,:],uvals[2,:],uvals[3,:],markersize=1)"
   ]
  },
  {
   "cell_type": "code",
   "execution_count": null,
   "id": "426fcc9a-08ce-44a9-b4d1-8e6706ae0ffd",
   "metadata": {},
   "outputs": [],
   "source": [
    "uvals'"
   ]
  },
  {
   "cell_type": "code",
   "execution_count": null,
   "id": "b722cc7f-0c5a-4a74-afc1-4ffeb57e9e5c",
   "metadata": {},
   "outputs": [],
   "source": []
  }
 ],
 "metadata": {
  "kernelspec": {
   "display_name": "Julia 1.6.2",
   "language": "julia",
   "name": "julia-1.6"
  },
  "language_info": {
   "file_extension": ".jl",
   "mimetype": "application/julia",
   "name": "julia",
   "version": "1.6.2"
  }
 },
 "nbformat": 4,
 "nbformat_minor": 5
}
