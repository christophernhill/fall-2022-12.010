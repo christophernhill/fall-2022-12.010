{
 "cells": [
  {
   "cell_type": "code",
   "execution_count": 1,
   "id": "5d3958e2-0041-4a0a-94e8-b9c80a57fca5",
   "metadata": {},
   "outputs": [
    {
     "data": {
      "text/plain": [
       "l63!"
      ]
     },
     "execution_count": 1,
     "metadata": {},
     "output_type": "execute_result"
    }
   ],
   "source": [
    "include(\"l63.jl\")"
   ]
  },
  {
   "cell_type": "code",
   "execution_count": 2,
   "id": "41d57392-a735-45f5-9f37-7df0fca10c59",
   "metadata": {},
   "outputs": [],
   "source": [
    "du=[0.,0.,0.];u0=[1.,0.,0.];p=[10.,28.,8/3];"
   ]
  },
  {
   "cell_type": "code",
   "execution_count": 3,
   "id": "7c2ed2b3-00d8-401f-9b44-aa56c66c3e57",
   "metadata": {},
   "outputs": [],
   "source": [
    "l63!(du,u0,p,0);"
   ]
  },
  {
   "cell_type": "code",
   "execution_count": null,
   "id": "68ab2511-bf46-4df4-b1f4-a5ad81c37bfa",
   "metadata": {},
   "outputs": [],
   "source": [
    "du"
   ]
  },
  {
   "cell_type": "code",
   "execution_count": null,
   "id": "53cf212f-c055-4aeb-a4dc-3cff65137829",
   "metadata": {},
   "outputs": [],
   "source": []
  }
 ],
 "metadata": {
  "kernelspec": {
   "display_name": "Julia 1.6.2",
   "language": "julia",
   "name": "julia-1.6"
  },
  "language_info": {
   "file_extension": ".jl",
   "mimetype": "application/julia",
   "name": "julia",
   "version": "1.6.2"
  }
 },
 "nbformat": 4,
 "nbformat_minor": 5
}
