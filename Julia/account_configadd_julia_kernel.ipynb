{
 "cells": [
  {
   "cell_type": "markdown",
   "id": "aaef6529-d98e-4920-8e20-48f33a0a50d9",
   "metadata": {},
   "source": [
    "### Notebook with commands to add Julia kernel to an account\n",
    "\n",
    "This is designed to be run once in a new account."
   ]
  },
  {
   "cell_type": "code",
   "execution_count": null,
   "id": "494222b0-8bba-44de-ad99-23642d84bddd",
   "metadata": {},
   "outputs": [],
   "source": [
    "# Setup Julia kernel in my account\n",
    "# ================================\n",
    "#\n",
    "# Note - if you execute this cell more than once it will leave things unchanged after the first\n",
    "# execution.\n",
    "#\n",
    "!julia -e 'using Pkg; Pkg.add(\"IJulia\");Pkg.update();'"
   ]
  }
 ],
 "metadata": {
  "kernelspec": {
   "display_name": "Python 3 (ipykernel)",
   "language": "python",
   "name": "python3"
  },
  "language_info": {
   "codemirror_mode": {
    "name": "ipython",
    "version": 3
   },
   "file_extension": ".py",
   "mimetype": "text/x-python",
   "name": "python",
   "nbconvert_exporter": "python",
   "pygments_lexer": "ipython3",
   "version": "3.7.11"
  }
 },
 "nbformat": 4,
 "nbformat_minor": 5
}
