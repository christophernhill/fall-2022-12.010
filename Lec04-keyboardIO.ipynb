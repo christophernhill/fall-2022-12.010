{
 "cells": [
  {
   "cell_type": "markdown",
   "metadata": {},
   "source": [
    "## Example input/output from terminal"
   ]
  },
  {
   "cell_type": "code",
   "execution_count": 2,
   "metadata": {},
   "outputs": [],
   "source": [
    "# Add the modules we need here\n",
    "import numpy as np"
   ]
  },
  {
   "cell_type": "code",
   "execution_count": 60,
   "metadata": {},
   "outputs": [
    {
     "name": "stdin",
     "output_type": "stream",
     "text": [
      "What is your name? tah\n"
     ]
    },
    {
     "name": "stdout",
     "output_type": "stream",
     "text": [
      "Are you really name tah ?\n",
      "Are you really name tah?\n"
     ]
    },
    {
     "name": "stdin",
     "output_type": "stream",
     "text": [
      "Are you really name tah? y\n"
     ]
    },
    {
     "name": "stdout",
     "output_type": "stream",
     "text": [
      "Q is of type  <class 'str'>\n"
     ]
    }
   ],
   "source": [
    "# input is the basic function to read from keyboard\n",
    "name = input('What is your name?')\n",
    "print('Are you really name',name,'?')\n",
    "Qstr = 'Are you really name '+name+'?'\n",
    "print(Qstr)\n",
    "Q = input(Qstr)\n",
    "# Could also use and not create the Qstr\n",
    "#Q = input('Are you really name '+name+'?')\n",
    "# \n",
    "print('Q is of type ',type(Q))"
   ]
  },
  {
   "cell_type": "code",
   "execution_count": 61,
   "metadata": {},
   "outputs": [
    {
     "name": "stdin",
     "output_type": "stream",
     "text": [
      "How may students in class 3\n"
     ]
    },
    {
     "name": "stdout",
     "output_type": "stream",
     "text": [
      "There are  3  students in class\n",
      "If there were 10 times as many students, there would be  3333333333 students\n",
      "Not what was expected\n",
      "Num is of type  <class 'str'>\n"
     ]
    }
   ],
   "source": [
    "# How about numeric input?\n",
    "Num = input('How may students in class')\n",
    "print('There are ',Num,' students in class')\n",
    "print('If there were 10 times as many students, there would be ',Num*10,'students')\n",
    "print('Not what was expected')\n",
    "print('Num is of type ',type(Num))"
   ]
  },
  {
   "cell_type": "code",
   "execution_count": 62,
   "metadata": {},
   "outputs": [
    {
     "name": "stdout",
     "output_type": "stream",
     "text": [
      "If there were 10 times as many students, there would be  30 students\n"
     ]
    }
   ],
   "source": [
    "# If I know to expect an integer (or float) I could use Num = int(input('How may students in class')) above\n",
    "print('If there were 10 times as many students, there would be ',int(Num)*10,'students')"
   ]
  },
  {
   "cell_type": "markdown",
   "metadata": {},
   "source": [
    "## Array and matrix input from keyboard\n"
   ]
  },
  {
   "cell_type": "code",
   "execution_count": 63,
   "metadata": {},
   "outputs": [
    {
     "name": "stdin",
     "output_type": "stream",
     "text": [
      "Array list 1 2 3 4 5\n"
     ]
    },
    {
     "name": "stdout",
     "output_type": "stream",
     "text": [
      "Input inpstr is  1 2 3 4 5\n",
      "Input as int list  [1, 2, 3, 4, 5]\n"
     ]
    }
   ],
   "source": [
    "inpstr = input('Array list')   # takes the whole line of n numbers\n",
    "# map is an iterator that applies function int the string split method input, \n",
    "intlist = list(map(int,inpstr.split(' ')))\n",
    "print('Input inpstr is ',inpstr)\n",
    "print('Input as int list ',intlist)"
   ]
  },
  {
   "cell_type": "code",
   "execution_count": 71,
   "metadata": {},
   "outputs": [
    {
     "name": "stdin",
     "output_type": "stream",
     "text": [
      "Enter how many elements you want: 2\n",
      "Element 0 : 1\n",
      "Element 1 : 2\n"
     ]
    },
    {
     "name": "stdout",
     "output_type": "stream",
     "text": [
      "Array  [1, 2]\n"
     ]
    }
   ],
   "source": [
    "num_array = list()\n",
    "num = int(input(\"Enter how many elements you want:\"))\n",
    "for i in range(num):\n",
    "    n = int(input('Element '+str(i)+' :'))\n",
    "    num_array.append(n)\n",
    "print('Array ',num_array)"
   ]
  },
  {
   "cell_type": "code",
   "execution_count": null,
   "metadata": {},
   "outputs": [],
   "source": [
    "\n",
    "  \n",
    "R = int(input(\"Enter the number of rows:\"))\n",
    "C = int(input(\"Enter the number of columns:\"))  \n",
    "print(\"Enter the entries in a single line (separated by space): \")\n",
    "  \n",
    "# User input of entries in a \n",
    "# single line separated by space\n",
    "entries = list(map(int, input().split()))\n",
    "  \n",
    "# For printing the matrix\n",
    "matrix = np.array(entries).reshape(R, C)\n",
    "print(matrix)"
   ]
  },
  {
   "cell_type": "markdown",
   "metadata": {},
   "source": [
    "## Read array from file (create file first)"
   ]
  },
  {
   "cell_type": "code",
   "execution_count": null,
   "metadata": {},
   "outputs": [],
   "source": [
    "! echo \"1, 2, 3\" >  mat.txt \n",
    "! echo \"4, 5, 6\" >> mat.txt\n",
    "! cat mat.txt"
   ]
  },
  {
   "cell_type": "code",
   "execution_count": 4,
   "metadata": {},
   "outputs": [
    {
     "name": "stdout",
     "output_type": "stream",
     "text": [
      "Matrix from file [[1. 2. 3.]\n",
      " [4. 5. 6.]]\n",
      "Size All 6\n",
      "Size Rows 3\n"
     ]
    }
   ],
   "source": [
    "# Could also\n",
    "#  from numpy import genfromtxt (call like function rather than apply method)\n",
    "#  nparr = genfromtxt('mat.txt',delimiter=',')\n",
    "nparr = np.genfromtxt('mat.txt',delimiter=',')\n",
    "print(\"Matrix from file\", nparr)\n",
    "print(\"Size All\",nparr.size)\n",
    "print(\"Size Rows\",nparr[0].size)"
   ]
  },
  {
   "cell_type": "code",
   "execution_count": null,
   "metadata": {},
   "outputs": [],
   "source": []
  },
  {
   "cell_type": "code",
   "execution_count": null,
   "metadata": {},
   "outputs": [],
   "source": []
  }
 ],
 "metadata": {
  "kernelspec": {
   "display_name": "Python 3",
   "language": "python",
   "name": "python3"
  },
  "language_info": {
   "codemirror_mode": {
    "name": "ipython",
    "version": 3
   },
   "file_extension": ".py",
   "mimetype": "text/x-python",
   "name": "python",
   "nbconvert_exporter": "python",
   "pygments_lexer": "ipython3",
   "version": "3.7.4"
  }
 },
 "nbformat": 4,
 "nbformat_minor": 4
}
