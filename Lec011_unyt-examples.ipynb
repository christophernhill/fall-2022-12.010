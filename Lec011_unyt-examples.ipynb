{
 "cells": [
  {
   "cell_type": "code",
   "execution_count": 2,
   "id": "130d9d08-e046-4795-b6ff-86f44f9d8c2a",
   "metadata": {},
   "outputs": [],
   "source": [
    "import unyt\n",
    "import sympy"
   ]
  },
  {
   "cell_type": "code",
   "execution_count": 3,
   "id": "ece5a7bb-0250-4ce1-9a99-702a99dbc180",
   "metadata": {},
   "outputs": [
    {
     "name": "stdout",
     "output_type": "stream",
     "text": [
      "799.24 cm\n"
     ]
    }
   ],
   "source": [
    "# Using unyt\n",
    "from unyt import cm, m, ft, yard\n",
    "print(3.*cm + 4.*m - 5.*ft + 6.*yard)"
   ]
  },
  {
   "cell_type": "code",
   "execution_count": 6,
   "id": "ef575b52-822e-439a-82de-d52c7450997d",
   "metadata": {},
   "outputs": [
    {
     "name": "stdout",
     "output_type": "stream",
     "text": [
      "[ 32.18688  40.2336   56.32704 112.65408] km/hr\n"
     ]
    }
   ],
   "source": [
    "from unyt import km, mile, hr\n",
    "velocities = [20., 25., 35., 70]*mile/hr\n",
    "print(velocities.to('km/hr'))"
   ]
  },
  {
   "cell_type": "code",
   "execution_count": 8,
   "id": "cfb5d4c1-8f3a-4735-80eb-bf76274e1017",
   "metadata": {},
   "outputs": [
    {
     "ename": "UnitOperationError",
     "evalue": "The <ufunc 'add'> operator for unyt_arrays with units \"kg\" (dimensions \"(mass)\") and \"m\" (dimensions \"(length)\") is not well defined.",
     "output_type": "error",
     "traceback": [
      "\u001b[0;31m---------------------------------------------------------------------------\u001b[0m",
      "\u001b[0;31mUnitOperationError\u001b[0m                        Traceback (most recent call last)",
      "\u001b[0;32m/tmp/ipykernel_523238/318458104.py\u001b[0m in \u001b[0;36m<module>\u001b[0;34m\u001b[0m\n\u001b[1;32m      1\u001b[0m \u001b[0;32mfrom\u001b[0m \u001b[0munyt\u001b[0m \u001b[0;32mimport\u001b[0m \u001b[0mkg\u001b[0m\u001b[0;34m,\u001b[0m \u001b[0mm\u001b[0m\u001b[0;34m\u001b[0m\u001b[0;34m\u001b[0m\u001b[0m\n\u001b[0;32m----> 2\u001b[0;31m \u001b[0;36m3\u001b[0m\u001b[0;34m*\u001b[0m\u001b[0mkg\u001b[0m \u001b[0;34m+\u001b[0m \u001b[0;36m4\u001b[0m\u001b[0;34m*\u001b[0m\u001b[0mm\u001b[0m        \u001b[0;31m# gives a unit error\u001b[0m\u001b[0;34m\u001b[0m\u001b[0;34m\u001b[0m\u001b[0m\n\u001b[0m",
      "\u001b[0;32m/opt/tljh/user/lib/python3.7/site-packages/unyt/array.py\u001b[0m in \u001b[0;36m__array_ufunc__\u001b[0;34m(self, ufunc, method, *inputs, **kwargs)\u001b[0m\n\u001b[1;32m   1762\u001b[0m                                     \u001b[0;32mraise\u001b[0m \u001b[0mUnitOperationError\u001b[0m\u001b[0;34m(\u001b[0m\u001b[0mufunc\u001b[0m\u001b[0;34m,\u001b[0m \u001b[0mu0\u001b[0m\u001b[0;34m,\u001b[0m \u001b[0mu1\u001b[0m\u001b[0;34m)\u001b[0m\u001b[0;34m\u001b[0m\u001b[0;34m\u001b[0m\u001b[0m\n\u001b[1;32m   1763\u001b[0m                         \u001b[0;32melse\u001b[0m\u001b[0;34m:\u001b[0m\u001b[0;34m\u001b[0m\u001b[0;34m\u001b[0m\u001b[0m\n\u001b[0;32m-> 1764\u001b[0;31m                             \u001b[0;32mraise\u001b[0m \u001b[0mUnitOperationError\u001b[0m\u001b[0;34m(\u001b[0m\u001b[0mufunc\u001b[0m\u001b[0;34m,\u001b[0m \u001b[0mu0\u001b[0m\u001b[0;34m,\u001b[0m \u001b[0mu1\u001b[0m\u001b[0;34m)\u001b[0m\u001b[0;34m\u001b[0m\u001b[0;34m\u001b[0m\u001b[0m\n\u001b[0m\u001b[1;32m   1765\u001b[0m                     \u001b[0mconv\u001b[0m\u001b[0;34m,\u001b[0m \u001b[0moffset\u001b[0m \u001b[0;34m=\u001b[0m \u001b[0mu1\u001b[0m\u001b[0;34m.\u001b[0m\u001b[0mget_conversion_factor\u001b[0m\u001b[0;34m(\u001b[0m\u001b[0mu0\u001b[0m\u001b[0;34m,\u001b[0m \u001b[0minp1\u001b[0m\u001b[0;34m.\u001b[0m\u001b[0mdtype\u001b[0m\u001b[0;34m)\u001b[0m\u001b[0;34m\u001b[0m\u001b[0;34m\u001b[0m\u001b[0m\n\u001b[1;32m   1766\u001b[0m                     \u001b[0mnew_dtype\u001b[0m \u001b[0;34m=\u001b[0m \u001b[0mnp\u001b[0m\u001b[0;34m.\u001b[0m\u001b[0mdtype\u001b[0m\u001b[0;34m(\u001b[0m\u001b[0;34m\"f\"\u001b[0m \u001b[0;34m+\u001b[0m \u001b[0mstr\u001b[0m\u001b[0;34m(\u001b[0m\u001b[0minp1\u001b[0m\u001b[0;34m.\u001b[0m\u001b[0mdtype\u001b[0m\u001b[0;34m.\u001b[0m\u001b[0mitemsize\u001b[0m\u001b[0;34m)\u001b[0m\u001b[0;34m)\u001b[0m\u001b[0;34m\u001b[0m\u001b[0;34m\u001b[0m\u001b[0m\n",
      "\u001b[0;31mUnitOperationError\u001b[0m: The <ufunc 'add'> operator for unyt_arrays with units \"kg\" (dimensions \"(mass)\") and \"m\" (dimensions \"(length)\") is not well defined."
     ]
    }
   ],
   "source": [
    "from unyt import kg, m\n",
    "3*kg + 4*m        # gives a unit error"
   ]
  },
  {
   "cell_type": "code",
   "execution_count": 10,
   "id": "5d5fa743-b4cc-4291-9520-681f0d78f17c",
   "metadata": {},
   "outputs": [
    {
     "name": "stdout",
     "output_type": "stream",
     "text": [
      "-23.0\n"
     ]
    }
   ],
   "source": [
    "from unyt import g, cm\n",
    "import numpy as np\n",
    "print(np.log10(1e-23*g/cm**3))   # This is allowed"
   ]
  },
  {
   "cell_type": "code",
   "execution_count": 30,
   "id": "d0b50764-ff43-4654-b31e-5a0ed04a0f0f",
   "metadata": {},
   "outputs": [
    {
     "name": "stdout",
     "output_type": "stream",
     "text": [
      "0.7071067811865475\n",
      "0.7071067811865475\n"
     ]
    }
   ],
   "source": [
    "# This works\n",
    "from unyt import degree, radian\n",
    "import numpy as np\n",
    "print( np.sin(np.pi/4*radian) )\n",
    "print( np.sin(45.*degree) )"
   ]
  },
  {
   "cell_type": "code",
   "execution_count": 29,
   "id": "9f90c5a4-64d1-4161-bf72-931fa7986bf6",
   "metadata": {},
   "outputs": [
    {
     "name": "stdout",
     "output_type": "stream",
     "text": [
      "\\frac{\\rm{g}}{\\rm{cm}^{3}}\n"
     ]
    },
    {
     "data": {
      "image/png": "[encoded data removed]",
      "text/plain": [
       "<Figure size 432x288 with 1 Axes>"
      ]
     },
     "metadata": {
      "needs_background": "light"
     },
     "output_type": "display_data"
    }
   ],
   "source": [
    "# Nice text for figures\n",
    "import matplotlib.pyplot as plt\n",
    "from unyt import g, cm\n",
    "print( (g/cm**3).units.latex_representation() )\n",
    "plt.text( 1,1 , '.' )\n",
    "plt.text( 0.5,0.5 , r'$%s$'%(g/cm**3).units.latex_repr, fontsize=24 );"
   ]
  },
  {
   "cell_type": "code",
   "execution_count": 31,
   "id": "882b99f0-bf39-4fd1-a782-3c52e42a3467",
   "metadata": {},
   "outputs": [
    {
     "data": {
      "text/plain": [
       "m**2/cm"
      ]
     },
     "execution_count": 31,
     "metadata": {},
     "output_type": "execute_result"
    }
   ],
   "source": [
    "from unyt import m, cm\n",
    ">>> m**2/cm.simplify()\n",
    "m**2/cm"
   ]
  },
  {
   "cell_type": "code",
   "execution_count": null,
   "id": "cccc3fba-cb7a-4135-9ff4-8370fb1e7c59",
   "metadata": {},
   "outputs": [],
   "source": []
  }
 ],
 "metadata": {
  "kernelspec": {
   "display_name": "Python 3 (ipykernel)",
   "language": "python",
   "name": "python3"
  },
  "language_info": {
   "codemirror_mode": {
    "name": "ipython",
    "version": 3
   },
   "file_extension": ".py",
   "mimetype": "text/x-python",
   "name": "python",
   "nbconvert_exporter": "python",
   "pygments_lexer": "ipython3",
   "version": "3.7.11"
  }
 },
 "nbformat": 4,
 "nbformat_minor": 5
}
