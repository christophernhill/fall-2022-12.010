{
 "cells": [
  {
   "cell_type": "code",
   "execution_count": null,
   "id": "c45052f0-ab5d-491b-a6a9-f95e52fb6881",
   "metadata": {},
   "outputs": [],
   "source": [
    "import sympy"
   ]
  },
  {
   "cell_type": "code",
   "execution_count": null,
   "id": "48d302bb-4720-421b-94ea-d35ac911529f",
   "metadata": {},
   "outputs": [],
   "source": [
    "sympy.pi.evalf(100)"
   ]
  },
  {
   "cell_type": "code",
   "execution_count": null,
   "id": "0c69cc85-0d73-43ce-9e41-925cfd916b1d",
   "metadata": {},
   "outputs": [],
   "source": [
    "s3=sympy.sqrt(3)\n",
    "s3"
   ]
  },
  {
   "cell_type": "code",
   "execution_count": null,
   "id": "f98e3095-5cc9-4ed8-b443-84d8fe3d3d7f",
   "metadata": {},
   "outputs": [],
   "source": [
    "s3.evalf(100)"
   ]
  },
  {
   "cell_type": "code",
   "execution_count": null,
   "id": "0712c82f-0387-4b58-8734-b53dd236fcfc",
   "metadata": {},
   "outputs": [],
   "source": [
    "s3*s3"
   ]
  },
  {
   "cell_type": "code",
   "execution_count": null,
   "id": "96be78ba-f156-4ec2-b806-fab298db270e",
   "metadata": {},
   "outputs": [],
   "source": [
    "3**0.5 * 3**0.5"
   ]
  },
  {
   "cell_type": "code",
   "execution_count": null,
   "id": "c80d14dd-b27f-4a6e-90b4-83b96f416b28",
   "metadata": {},
   "outputs": [],
   "source": [
    "sympy.pi"
   ]
  },
  {
   "cell_type": "code",
   "execution_count": null,
   "id": "e47dbf94-cea0-4f4e-b676-1d5f1f189565",
   "metadata": {},
   "outputs": [],
   "source": [
    "x, y = sympy.symbols('x y')\n",
    "expr = x + 2*y\n",
    "expr"
   ]
  },
  {
   "cell_type": "code",
   "execution_count": null,
   "id": "f2da8a0e-53d8-4839-813e-00373122bd31",
   "metadata": {},
   "outputs": [],
   "source": [
    "expr-x  # sympy simplifies expressions"
   ]
  },
  {
   "cell_type": "code",
   "execution_count": null,
   "id": "2492a0bb-2fc5-43ab-9846-53a60ab9b5a8",
   "metadata": {},
   "outputs": [],
   "source": [
    "x*expr"
   ]
  },
  {
   "cell_type": "code",
   "execution_count": null,
   "id": "aa1f4e0f-93d7-4972-a9d5-7b99e2b1cfb9",
   "metadata": {},
   "outputs": [],
   "source": [
    "sympy.expand(x*expr)"
   ]
  },
  {
   "cell_type": "code",
   "execution_count": null,
   "id": "4c55ebef-62d2-44cc-813b-2405d13c574a",
   "metadata": {},
   "outputs": [],
   "source": [
    "# Differentiation\n",
    "sympy.diff(sympy.sin(x)*sympy.exp(x), x)"
   ]
  },
  {
   "cell_type": "code",
   "execution_count": null,
   "id": "c47d0b2c-5d77-47af-a66f-09190b1798f1",
   "metadata": {},
   "outputs": [],
   "source": [
    "t=sympy.symbols('t')\n",
    "y = sympy.Function('y')\n",
    "sympy.dsolve(sympy.Eq(y(t).diff(t) , -y(t)), y(t) )"
   ]
  },
  {
   "cell_type": "code",
   "execution_count": null,
   "id": "5b2fb2d0-9ed4-412a-a011-fe7d9e142e91",
   "metadata": {},
   "outputs": [],
   "source": [
    "a,b,c,d = sympy.symbols('a b c d')\n",
    "sympy.Matrix([[a, b], [c, d]]).eigenvals()"
   ]
  },
  {
   "cell_type": "code",
   "execution_count": null,
   "id": "9440438c-1531-4b6c-8fcc-f6d54f577a14",
   "metadata": {},
   "outputs": [],
   "source": [
    "sympy.Matrix([[a, b], [c, d]]).inv()"
   ]
  },
  {
   "cell_type": "code",
   "execution_count": null,
   "id": "4cb78567-7c39-4cc1-bb60-ff4b5f64ea6d",
   "metadata": {},
   "outputs": [],
   "source": [
    "sympy.Matrix([[a, b], [c, d]]).det()"
   ]
  },
  {
   "cell_type": "code",
   "execution_count": null,
   "id": "67e3f98f-d368-4f24-bc1f-4392e41901d1",
   "metadata": {},
   "outputs": [],
   "source": [
    "a,b,c,d,e,f,g,h,i = sympy.symbols('a b c d e f g h i')"
   ]
  },
  {
   "cell_type": "code",
   "execution_count": null,
   "id": "1e40e39a-fa7b-425f-9a5d-32e4f790d182",
   "metadata": {},
   "outputs": [],
   "source": [
    "sympy.Matrix([[a, b, c], [d, e, f], [g, h,i ]]).det()"
   ]
  },
  {
   "cell_type": "code",
   "execution_count": null,
   "id": "b63d315a-14d9-42d6-b378-06a1df8009f6",
   "metadata": {},
   "outputs": [],
   "source": [
    "sympy.Matrix([[a, b, c], [d, e, f], [g, h,i ]]).inv()"
   ]
  },
  {
   "cell_type": "code",
   "execution_count": null,
   "id": "c60a106f-eabd-4847-adfb-107a68c95977",
   "metadata": {},
   "outputs": [],
   "source": [
    "sympy.Matrix([[a, b, c], [d, e, f], [g, h,i ]]).eigenvals()"
   ]
  },
  {
   "cell_type": "code",
   "execution_count": null,
   "id": "2f215965-af4e-44f8-850a-510d72cc791b",
   "metadata": {},
   "outputs": [],
   "source": [
    "sympy.Matrix([[a, b, c], [d, e, f], [g, h,i ]]).eigenvects()"
   ]
  },
  {
   "cell_type": "code",
   "execution_count": null,
   "id": "60ba9407-f0ba-4eee-b91f-48d4fb5625c9",
   "metadata": {},
   "outputs": [],
   "source": []
  }
 ],
 "metadata": {
  "kernelspec": {
   "display_name": "Python 3 (ipykernel)",
   "language": "python",
   "name": "python3"
  },
  "language_info": {
   "codemirror_mode": {
    "name": "ipython",
    "version": 3
   },
   "file_extension": ".py",
   "mimetype": "text/x-python",
   "name": "python",
   "nbconvert_exporter": "python",
   "pygments_lexer": "ipython3",
   "version": "3.7.11"
  }
 },
 "nbformat": 4,
 "nbformat_minor": 5
}
