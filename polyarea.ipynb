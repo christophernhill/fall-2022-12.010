{
 "cells": [
  {
   "cell_type": "markdown",
   "metadata": {},
   "source": [
    "## polyarea Notebook"
   ]
  },
  {
   "cell_type": "code",
   "execution_count": null,
   "metadata": {},
   "outputs": [],
   "source": [
    "## Setup with modules needed\n",
    "import numpy as np\n",
    "import matplotlib.pyplot as plt # Make a plot to see shape\n",
    "import matplotlib"
   ]
  },
  {
   "cell_type": "code",
   "execution_count": null,
   "metadata": {},
   "outputs": [],
   "source": [
    "def readnodes( file='stdin' ):\n",
    "    '''Function to read the X,Y coordinates of nodes of the \n",
    "    points in the triangle.  The circuit around the nodes \n",
    "    should be in clockwise direction.\n",
    "    Input \"file\" is name of file.  If not passed, keyboard \n",
    "    is used\n",
    "    Useage:\n",
    "    numnode, nodes_xy = readnodes('stdin'/file)\n",
    "    \n",
    "    '''\n",
    "    \n",
    "    # First see if file or std in to be read\n",
    "    if file == 'stdin':\n",
    "        inpstr = input('Coordinate pairs of nodes ')   \n",
    "        nodelist = list(map(float,inpstr.split(' ')))\n",
    "        # Now make numpy array and reshape\n",
    "        numlist = len(nodelist)\n",
    "        if numlist != (numlist//2)*2:\n",
    "            print('Even number of nodes nodes needed\\n',numlist,'given')\n",
    "            return 0, 0\n",
    "        \n",
    "        numnode = int(numlist//2)\n",
    "        nodes_xy = np.array(nodelist).reshape(numnode,2)\n",
    "    else:\n",
    "        try:\n",
    "            nodes_xy = np.genfromtxt(file,delimiter=',')\n",
    "            numnode = np.shape(nodes_xy)[0]\n",
    "        except:\n",
    "            print('Exception reading',file)\n",
    "            return 0, 0\n",
    "    # Replicate the last element in array to close the polygon\n",
    "    if not np.all(nodes_xy[numnode-1,:] == nodes_xy[0,:]):\n",
    "        nodes_xy = np.append(nodes_xy,nodes_xy[0])\n",
    "        # The matrix reverts to an array when this is done, so\n",
    "        # a reshape is needed\n",
    "        numnode += 1\n",
    "        nodes_xy = np.array(nodes_xy).reshape(numnode,2)\n",
    "\n",
    "    # Returns number of nodes and np array \n",
    "    \n",
    "    return numnode, nodes_xy\n"
   ]
  },
  {
   "cell_type": "code",
   "execution_count": null,
   "metadata": {},
   "outputs": [],
   "source": [
    "def form_vectors(nodes_xy):\n",
    "    '''Function form the two vectors that make up the triangle\n",
    "    from the node coordinates.\n",
    "    Usage:\n",
    "    trivec = form_vector(nodes_xy)\n",
    "    where nodes_xy is numpy rows*2 array\n",
    "    trivec is numpy array\n",
    "    '''\n",
    "    return nodes_xy-nodes_xy[0]\n",
    "    "
   ]
  },
  {
   "cell_type": "code",
   "execution_count": null,
   "metadata": {},
   "outputs": [],
   "source": [
    "def plotpoly(xy):\n",
    "    ''' Plots the 2-D polygon in numpy array xy'''\n",
    "    plt.rcParams['figure.figsize'] = [5, 5]\n",
    "    plt.rcParams.update({'font.size': 16})\n",
    "    plt.plot(xy[:,0],xy[:,1],'o-',label='Polygon')\n",
    "    plt.legend()\n",
    "    plt.xlabel('X coordinate'); plt.ylabel('Y coordinate'); \n",
    "    plt.show() \n"
   ]
  },
  {
   "cell_type": "code",
   "execution_count": null,
   "metadata": {},
   "outputs": [],
   "source": [
    "def triarea(xy,scale=1.0):\n",
    "    '''Compute the area enclosed by summing the areas of\n",
    "    each triangle that make up the polygon\n",
    "    Useaage\n",
    "    area = triarea(nodes_xy,scale)\n",
    "    '''\n",
    "    # Form the cross product Z-component and divide by two since\n",
    "    # cross product a x b = |a||b| sin(theta) in direction normal\n",
    "    # to the plane of vectors a and b.  theta is the angle between\n",
    "    # vectors.\n",
    "    # Note: Sign will depend on if we rotate clockwise or\n",
    "    # anti-clockwise between vector.  A change in sign indicates\n",
    "    # a change from convex to concave.  \n",
    "    # Numpy has method to form cross product  \n",
    "    n = np.shape(xy)[0]-2  # Take vectors in pairs so stop one from end\n",
    "    \n",
    "    area = 0\n",
    "    for k in range(1,n):\n",
    "        darea = (xy[k,0]*xy[k+1,1]-xy[k+1,0]*xy[k,1])/2\n",
    "        if k == 1:\n",
    "            signa = np.sign(darea)\n",
    "        else:\n",
    "            if signa != np.sign(darea):\n",
    "                print('Concave at node ',k)\n",
    "\n",
    "        area += darea*scale**2\n",
    "    \n",
    "    return area\n"
   ]
  },
  {
   "cell_type": "markdown",
   "metadata": {},
   "source": [
    "## Main part of polyarea: Here to run program"
   ]
  },
  {
   "cell_type": "code",
   "execution_count": null,
   "metadata": {},
   "outputs": [],
   "source": [
    "# Read in the polygon coordinates ('stdin' will read from keyboard)\n",
    "print('\\n POLYGON AREA calculation\\n')\n",
    "numnode, nodes_xy = readnodes('poly1.in')\n",
    "# (Substract one on output becuase the first and last points are the\n",
    "# same so that the line closes)\n",
    "print('Polygon has',numnode-1,'nodes in it')\n",
    "# Form the vectors from the first point to all other points\n",
    "trivec = form_vectors(nodes_xy)\n",
    "# Compute the area of the polygon\n",
    "Area = triarea(trivec)\n",
    "# Print out the results\n",
    "print('AREA of the polygon is ',Area)\n",
    "# Plot the polygon\n",
    "plotpoly(nodes_xy)"
   ]
  },
  {
   "cell_type": "code",
   "execution_count": null,
   "metadata": {},
   "outputs": [],
   "source": []
  }
 ],
 "metadata": {
  "kernelspec": {
   "display_name": "Python 3",
   "language": "python",
   "name": "python3"
  },
  "language_info": {
   "codemirror_mode": {
    "name": "ipython",
    "version": 3
   },
   "file_extension": ".py",
   "mimetype": "text/x-python",
   "name": "python",
   "nbconvert_exporter": "python",
   "pygments_lexer": "ipython3",
   "version": "3.7.4"
  }
 },
 "nbformat": 4,
 "nbformat_minor": 4
}
